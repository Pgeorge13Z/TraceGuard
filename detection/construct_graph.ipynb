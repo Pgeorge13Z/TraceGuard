{
 "cells": [
  {
   "cell_type": "code",
   "execution_count": 1,
   "id": "f8329261",
   "metadata": {},
   "outputs": [],
   "source": [
    "from sqlalchemy.orm.session import sessionmaker\n",
    "from sqlalchemy import create_engine\n",
    "import pandas as pd\n",
    "import numpy as np\n",
    "import tensorflow as tf"
   ]
  },
  {
   "cell_type": "code",
   "execution_count": 2,
   "id": "d8adca39",
   "metadata": {},
   "outputs": [],
   "source": [
    "import matplotlib.pyplot as plt\n",
    "%matplotlib inline"
   ]
  },
  {
   "cell_type": "code",
   "execution_count": 3,
   "id": "93a84d91",
   "metadata": {},
   "outputs": [
    {
     "name": "stdout",
     "output_type": "stream",
     "text": [
      "Python 3.9.12\r\n"
     ]
    }
   ],
   "source": [
    "!python --version"
   ]
  },
  {
   "cell_type": "code",
   "execution_count": 4,
   "id": "85c30159",
   "metadata": {},
   "outputs": [],
   "source": [
    "actor_id_to_id_filename = '/mnt/8tb/csenrc/data/ecar/benign/actors_to_id.csv' \n",
    "query_by_id = \"select * from \\\"SysClient0201Events\\\" where \\\"id\\\"=\\'{}\\';\"\n",
    "db_url = 'postgresql+psycopg2://csephase2:csephase@@localhost/csephase2'\n",
    "event_count = 19230658"
   ]
  },
  {
   "cell_type": "code",
   "execution_count": 5,
   "id": "d7751423",
   "metadata": {},
   "outputs": [],
   "source": [
    "psql_engine = create_engine(db_url)\n",
    "Session = sessionmaker(bind=psql_engine)\n",
    "session = Session()"
   ]
  },
  {
   "cell_type": "code",
   "execution_count": 6,
   "id": "223ede1e",
   "metadata": {},
   "outputs": [],
   "source": [
    "id_dataframe = pd.read_csv(actor_id_to_id_filename)"
   ]
  },
  {
   "cell_type": "code",
   "execution_count": 7,
   "id": "a0fabfe4",
   "metadata": {},
   "outputs": [
    {
     "data": {
      "text/html": [
       "<div>\n",
       "<style scoped>\n",
       "    .dataframe tbody tr th:only-of-type {\n",
       "        vertical-align: middle;\n",
       "    }\n",
       "\n",
       "    .dataframe tbody tr th {\n",
       "        vertical-align: top;\n",
       "    }\n",
       "\n",
       "    .dataframe thead th {\n",
       "        text-align: right;\n",
       "    }\n",
       "</style>\n",
       "<table border=\"1\" class=\"dataframe\">\n",
       "  <thead>\n",
       "    <tr style=\"text-align: right;\">\n",
       "      <th></th>\n",
       "      <th>actor_id</th>\n",
       "      <th>id</th>\n",
       "    </tr>\n",
       "  </thead>\n",
       "  <tbody>\n",
       "    <tr>\n",
       "      <th>0</th>\n",
       "      <td>a382b760-97dc-4467-bb07-3651a565bfad</td>\n",
       "      <td>8929953</td>\n",
       "    </tr>\n",
       "    <tr>\n",
       "      <th>1</th>\n",
       "      <td>fe40b96f-263b-413f-b91f-aa10ad266aaa</td>\n",
       "      <td>3841830</td>\n",
       "    </tr>\n",
       "    <tr>\n",
       "      <th>2</th>\n",
       "      <td>dfd9fb45-174a-485e-8a90-9384d2cd4da5</td>\n",
       "      <td>5793737</td>\n",
       "    </tr>\n",
       "    <tr>\n",
       "      <th>3</th>\n",
       "      <td>cbdb1678-5919-47a6-ac91-77cabf658170</td>\n",
       "      <td>12168624</td>\n",
       "    </tr>\n",
       "    <tr>\n",
       "      <th>4</th>\n",
       "      <td>62f16c0e-6d34-4c4b-a04e-c5ccb3edd55e</td>\n",
       "      <td>17212856</td>\n",
       "    </tr>\n",
       "  </tbody>\n",
       "</table>\n",
       "</div>"
      ],
      "text/plain": [
       "                               actor_id        id\n",
       "0  a382b760-97dc-4467-bb07-3651a565bfad   8929953\n",
       "1  fe40b96f-263b-413f-b91f-aa10ad266aaa   3841830\n",
       "2  dfd9fb45-174a-485e-8a90-9384d2cd4da5   5793737\n",
       "3  cbdb1678-5919-47a6-ac91-77cabf658170  12168624\n",
       "4  62f16c0e-6d34-4c4b-a04e-c5ccb3edd55e  17212856"
      ]
     },
     "execution_count": 7,
     "metadata": {},
     "output_type": "execute_result"
    }
   ],
   "source": [
    "id_dataframe.head(5)"
   ]
  },
  {
   "cell_type": "code",
   "execution_count": 8,
   "id": "a1f66901",
   "metadata": {},
   "outputs": [],
   "source": [
    "actor_id_map = dict()\n",
    "id_map = dict()"
   ]
  },
  {
   "cell_type": "code",
   "execution_count": 9,
   "id": "da152d06",
   "metadata": {},
   "outputs": [],
   "source": [
    "session.rollback()"
   ]
  },
  {
   "cell_type": "code",
   "execution_count": 10,
   "id": "fc996997",
   "metadata": {},
   "outputs": [
    {
     "name": "stdout",
     "output_type": "stream",
     "text": [
      "Checkpoint Reached\n",
      "Checkpoint Reached\n",
      "Checkpoint Reached\n",
      "Checkpoint Reached\n",
      "Checkpoint Reached\n",
      "Checkpoint Reached\n",
      "Checkpoint Reached\n",
      "Checkpoint Reached\n"
     ]
    }
   ],
   "source": [
    "count = 0\n",
    "for idx, row in id_dataframe.iterrows():\n",
    "    actor_id_map[row['actor_id']] = row['id']\n",
    "    if row['id'] != 0:\n",
    "        count+=1\n",
    "        query_res = session.execute(query_by_id.format(row['id']))\n",
    "        for r in query_res:\n",
    "            id_map[row['id']] = r\n",
    "            \n",
    "    if count%10000==0:\n",
    "        print(\"Checkpoint Reached\")"
   ]
  },
  {
   "cell_type": "markdown",
   "id": "269fc394",
   "metadata": {},
   "source": [
    "### Normalize the timedelta "
   ]
  },
  {
   "cell_type": "code",
   "execution_count": 11,
   "id": "c111e570",
   "metadata": {},
   "outputs": [
    {
     "data": {
      "text/plain": [
       "(5747630, '22f19496-38c2-46bc-83f4-9e19cfcad678', 'PROCESS', '03474d84-0b2a-41e2-b06b-de4f862aff2e', 'CREATE', 'd783f574-a0a0-452b-9b9d-154a0b67717d', 'SysClient0051.systemia.com', 668, 560, 'NT AUTHORITY\\\\SYSTEM', -1, datetime.datetime(2019, 9, 20, 16, 40, 25, 539000))"
      ]
     },
     "execution_count": 11,
     "metadata": {},
     "output_type": "execute_result"
    }
   ],
   "source": [
    "result_set = session.execute(\"select * from \\\"SysClient0051Events\\\" where id=5747630;\")\n",
    "for r in result_set:\n",
    "    earliest_event = r\n",
    "earliest_event"
   ]
  },
  {
   "cell_type": "code",
   "execution_count": 12,
   "id": "8ea84ef6",
   "metadata": {},
   "outputs": [
    {
     "data": {
      "text/plain": [
       "(12737182, 'b39f020b-f994-40d3-ba69-4807c2e2480d', 'FILE', 'd1945e40-8c34-4f3b-81ee-aa3aa15eb56d', 'READ', '03474d84-0b2a-41e2-b06b-de4f862aff2e', 'SysClient0051.systemia.com', 668, 560, 'NT AUTHORITY\\\\SYSTEM', 2728, datetime.datetime(2019, 9, 24, 15, 58, 0, 970000))"
      ]
     },
     "execution_count": 12,
     "metadata": {},
     "output_type": "execute_result"
    }
   ],
   "source": [
    "result_set = session.execute(\"select * from \\\"SysClient0051Events\\\" where id=12737182;\")\n",
    "for r in result_set:\n",
    "    latest_event = r\n",
    "latest_event"
   ]
  },
  {
   "cell_type": "code",
   "execution_count": 13,
   "id": "4fcadb5c",
   "metadata": {},
   "outputs": [
    {
     "data": {
      "text/plain": [
       "datetime.timedelta(days=3, seconds=83855, microseconds=431000)"
      ]
     },
     "execution_count": 13,
     "metadata": {},
     "output_type": "execute_result"
    }
   ],
   "source": [
    "time_diff_span = latest_event.timestamp - earliest_event.timestamp\n",
    "time_diff_span"
   ]
  },
  {
   "cell_type": "code",
   "execution_count": 14,
   "id": "59afda53",
   "metadata": {},
   "outputs": [
    {
     "data": {
      "text/plain": [
       "343055.431"
      ]
     },
     "execution_count": 14,
     "metadata": {},
     "output_type": "execute_result"
    }
   ],
   "source": [
    "time_diff_span.total_seconds()"
   ]
  },
  {
   "cell_type": "markdown",
   "id": "cf5e0335",
   "metadata": {},
   "source": [
    "### Assign values to object and action"
   ]
  },
  {
   "cell_type": "code",
   "execution_count": 15,
   "id": "f1a791ce",
   "metadata": {},
   "outputs": [],
   "source": [
    "object_dict = dict()\n",
    "object_dict['FILE'] = 1\n",
    "object_dict['PROCESS'] = 2\n",
    "object_dict['SHELL'] = 3\n",
    "object_dict['FLOW'] = 4"
   ]
  },
  {
   "cell_type": "code",
   "execution_count": 16,
   "id": "d781585e",
   "metadata": {},
   "outputs": [],
   "source": [
    "action_dict = dict()\n",
    "action_dict['CREATE'] = 1\n",
    "action_dict['DELETE'] = 2\n",
    "action_dict['READ'] = 3\n",
    "action_dict['MODIFY'] = 4\n",
    "action_dict['RENAME'] = 5\n",
    "action_dict['WRITE'] = 6\n",
    "action_dict['MESSAGE'] = 7\n",
    "#action_dict['CREATE'] = 8\n",
    "action_dict['OPEN'] = 8\n",
    "action_dict['TERMINATE'] = 9\n",
    "action_dict['COMMAND'] = 10"
   ]
  },
  {
   "cell_type": "code",
   "execution_count": 17,
   "id": "53525644",
   "metadata": {},
   "outputs": [],
   "source": [
    "type_object = 4\n",
    "type_action = 10"
   ]
  },
  {
   "cell_type": "code",
   "execution_count": 18,
   "id": "d39bc11a",
   "metadata": {},
   "outputs": [],
   "source": [
    "graph = dict() "
   ]
  },
  {
   "cell_type": "code",
   "execution_count": 19,
   "id": "4914bc13",
   "metadata": {},
   "outputs": [],
   "source": [
    "for key in actor_id_map:\n",
    "    actor_id = actor_id_map[key]\n",
    "    graph[actor_id] = []"
   ]
  },
  {
   "cell_type": "code",
   "execution_count": 20,
   "id": "bb14a582",
   "metadata": {},
   "outputs": [],
   "source": [
    "skeleton_query = \"select * from \\\"SysClient0201Events\\\" where \\\"id\\\">\\'{}\\' and \\\"id\\\"<=\\'{}\\';\"\n",
    "#skeleton_query = \"select * from \\\"SysClient0358Events\\\" where \\\"id\\\">\\'{}\\' and \\\"id\\\"<=\\'{}\\';\""
   ]
  },
  {
   "cell_type": "code",
   "execution_count": 21,
   "id": "2796adad",
   "metadata": {},
   "outputs": [],
   "source": [
    "current_index = 0\n",
    "chunk_size = 100000"
   ]
  },
  {
   "cell_type": "code",
   "execution_count": 23,
   "id": "68f34ed2",
   "metadata": {},
   "outputs": [
    {
     "name": "stdout",
     "output_type": "stream",
     "text": [
      "(104125, 'e9186477-0681-42e7-8b14-e2dfa5279076', 'PROCESS', 'f07796fd-225d-441c-9b5f-14e68d51cec2', 'TERMINATE', 'f07796fd-225d-441c-9b5f-14e68d51cec2', 'SysClient0201.systemia.com', 5740, 5468, 'SYSTEMIACOM\\\\zleazer', -1, datetime.datetime(2019, 9, 16, 20, 14, 1, 850000))\n",
      "(104327, 'd02bb05d-23fa-40ce-a872-125abaddb947', 'PROCESS', '87de74fd-2cfa-4b8b-a195-6540bf03fbb1', 'TERMINATE', '87de74fd-2cfa-4b8b-a195-6540bf03fbb1', 'SysClient0201.systemia.com', 2940, 1172, 'SYSTEMIACOM\\\\zleazer', -1, datetime.datetime(2019, 9, 16, 20, 14, 2, 274000))\n",
      "(105955, '30c0ba94-e654-43b3-9035-b2cbd6b7c36e', 'PROCESS', '0bc88157-0d57-4be7-b565-7c0fe2440511', 'TERMINATE', '0bc88157-0d57-4be7-b565-7c0fe2440511', 'SysClient0201.systemia.com', 5396, 1164, 'SYSTEMIACOM\\\\zleazer', -1, datetime.datetime(2019, 9, 16, 20, 14, 6, 315000))\n",
      "(105956, 'a6888481-f9ed-4849-a333-76962f643156', 'PROCESS', '70eb9f34-53f2-490b-9370-31b88ab28ffd', 'TERMINATE', '70eb9f34-53f2-490b-9370-31b88ab28ffd', 'SysClient0201.systemia.com', 1164, 5620, 'SYSTEMIACOM\\\\zleazer', -1, datetime.datetime(2019, 9, 16, 20, 14, 6, 317000))\n",
      "(105957, '38d66fbf-f5fe-4347-8d43-15d8438cdf88', 'PROCESS', 'f6cdde85-079f-4863-90a8-56d2e20d24ff', 'TERMINATE', 'f6cdde85-079f-4863-90a8-56d2e20d24ff', 'SysClient0201.systemia.com', 5328, 5620, 'SYSTEMIACOM\\\\zleazer', -1, datetime.datetime(2019, 9, 16, 20, 14, 6, 320000))\n",
      "(109608, 'd37c0fca-010a-442c-bde0-98eb551208d7', 'PROCESS', '3d836134-07e3-4ad7-bb4f-0afb400ccf3b', 'TERMINATE', '3d836134-07e3-4ad7-bb4f-0afb400ccf3b', 'SysClient0201.systemia.com', 2952, 6132, 'SYSTEMIACOM\\\\zleazer', -1, datetime.datetime(2019, 9, 16, 20, 14, 14, 326000))\n",
      "(109618, '99aa855f-953c-4e72-b277-3f6bbecbc0a2', 'PROCESS', '5e294d01-6e90-4fd5-8385-255884694799', 'TERMINATE', '5e294d01-6e90-4fd5-8385-255884694799', 'SysClient0201.systemia.com', 348, 3880, 'SYSTEMIACOM\\\\zleazer', -1, datetime.datetime(2019, 9, 16, 20, 14, 14, 531000))\n",
      "(110286, '78896e6d-f18b-47a8-95aa-8d5f6acbe8b1', 'PROCESS', '937ccb3a-6fa7-4c0a-aee0-5af9709a3013', 'TERMINATE', '937ccb3a-6fa7-4c0a-aee0-5af9709a3013', 'SysClient0201.systemia.com', 5084, 4276, 'SYSTEMIACOM\\\\zleazer', -1, datetime.datetime(2019, 9, 16, 20, 14, 15, 911000))\n",
      "(112220, 'c54eed7c-08d7-4737-8d4c-dc8fc2d9b9f1', 'PROCESS', '129655bc-b037-4f59-8d9d-357fc9d5970f', 'TERMINATE', '129655bc-b037-4f59-8d9d-357fc9d5970f', 'SysClient0201.systemia.com', 4480, 5584, 'SYSTEMIACOM\\\\zleazer', -1, datetime.datetime(2019, 9, 16, 20, 14, 22, 731000))\n",
      "(126733, 'edf771d1-4da9-4e15-a35e-10e6e6b654c9', 'PROCESS', '519e13b6-0686-461f-84f4-5315a06cf3cf', 'TERMINATE', '519e13b6-0686-461f-84f4-5315a06cf3cf', 'SysClient0201.systemia.com', 4276, 3080, 'NT AUTHORITY\\\\NETWORK SERVICE', -1, datetime.datetime(2019, 9, 16, 20, 17, 15, 631000))\n",
      "(139471, '4f37b6cf-1b88-4933-b614-65e1d98e2b9b', 'PROCESS', '21e24865-a490-4079-9424-2520d7d5da56', 'TERMINATE', '21e24865-a490-4079-9424-2520d7d5da56', 'SysClient0201.systemia.com', 5260, 4184, 'SYSTEMIACOM\\\\zleazer', -1, datetime.datetime(2019, 9, 16, 20, 22, 49, 143000))\n",
      "(140585, 'f226006e-ca29-49b7-99aa-50023347658f', 'PROCESS', '0b917cdc-f09e-4222-81a1-426f24f1c70c', 'TERMINATE', '0b917cdc-f09e-4222-81a1-426f24f1c70c', 'SysClient0201.systemia.com', 5580, 1464, 'SYSTEMIACOM\\\\zleazer', -1, datetime.datetime(2019, 9, 16, 20, 23, 0, 315000))\n",
      "(142035, '4ed6a1c8-7d46-4fd7-8301-cc8d0841757e', 'PROCESS', 'eb7ad432-8c46-4ec8-9575-fb1e5686edc2', 'TERMINATE', 'eb7ad432-8c46-4ec8-9575-fb1e5686edc2', 'SysClient0201.systemia.com', 3728, 3320, 'SYSTEMIACOM\\\\zleazer', -1, datetime.datetime(2019, 9, 16, 20, 23, 5, 834000))\n",
      "(142927, '4570f6ad-3037-4b71-adce-8b9c05b86b8e', 'PROCESS', '3c4f1655-63f6-4e80-86d9-745b820696a6', 'TERMINATE', '3c4f1655-63f6-4e80-86d9-745b820696a6', 'SysClient0201.systemia.com', 4988, 4992, 'SYSTEMIACOM\\\\zleazer', -1, datetime.datetime(2019, 9, 16, 20, 23, 13, 729000))\n",
      "(142930, 'ab89d691-1b43-407d-8cfc-b23af51be3b6', 'PROCESS', 'd1420b1b-3de3-4a94-a22a-8cf106024d86', 'TERMINATE', 'd1420b1b-3de3-4a94-a22a-8cf106024d86', 'SysClient0201.systemia.com', 4980, 4992, 'SYSTEMIACOM\\\\zleazer', -1, datetime.datetime(2019, 9, 16, 20, 23, 13, 727000))\n",
      "(143015, '1783f7e3-77d8-453b-a116-ed8af411daa1', 'PROCESS', '79289f08-7c42-4531-a8b5-710a70c43c0f', 'OPEN', '79289f08-7c42-4531-a8b5-710a70c43c0f', 'SysClient0201.systemia.com', 4304, 5864, 'SYSTEMIACOM\\\\zleazer', 5792, datetime.datetime(2019, 9, 16, 20, 23, 13, 989000))\n",
      "(144922, '572fc5d7-320b-4d3b-99aa-7e0061c1609d', 'PROCESS', '82bb4cc8-f296-4c53-b053-c77ed20fce8a', 'TERMINATE', '82bb4cc8-f296-4c53-b053-c77ed20fce8a', 'SysClient0201.systemia.com', 4388, 5024, 'SYSTEMIACOM\\\\zleazer', -1, datetime.datetime(2019, 9, 16, 20, 23, 22, 383000))\n",
      "(145954, 'c934b392-cfdb-42c7-8625-60a2fbdd45e4', 'PROCESS', 'a86403fb-202a-4a8a-9a5d-dbff9074903c', 'TERMINATE', 'a86403fb-202a-4a8a-9a5d-dbff9074903c', 'SysClient0201.systemia.com', 3216, 3204, 'SYSTEMIACOM\\\\zleazer', -1, datetime.datetime(2019, 9, 16, 20, 23, 27, 180000))\n",
      "(146456, '73ed8f22-ef11-4420-8039-e1035b20b3c9', 'PROCESS', '57e345e7-8801-43fb-abe6-25c910d9cb19', 'TERMINATE', '57e345e7-8801-43fb-abe6-25c910d9cb19', 'SysClient0201.systemia.com', 4852, 5496, 'SYSTEMIACOM\\\\zleazer', -1, datetime.datetime(2019, 9, 16, 20, 23, 28, 976000))\n",
      "(146457, '17795d63-84e7-4466-8117-c225a7ac9e11', 'PROCESS', '8e93d633-f221-4878-84f5-d54a5785a633', 'TERMINATE', '8e93d633-f221-4878-84f5-d54a5785a633', 'SysClient0201.systemia.com', 5496, 2628, 'SYSTEMIACOM\\\\zleazer', -1, datetime.datetime(2019, 9, 16, 20, 23, 28, 979000))\n",
      "(146458, 'a0108796-b6b7-43b8-ae94-3303eb4749f2', 'PROCESS', '21ff34bf-f651-46b2-a6cb-07b40a6b7699', 'TERMINATE', '21ff34bf-f651-46b2-a6cb-07b40a6b7699', 'SysClient0201.systemia.com', 5308, 2628, 'SYSTEMIACOM\\\\zleazer', -1, datetime.datetime(2019, 9, 16, 20, 23, 28, 983000))\n",
      "(146715, '244b8528-f077-46b3-aa5a-4c344e54e274', 'PROCESS', '7102c381-343d-4cd0-bdb6-a71fda9816bd', 'TERMINATE', '7102c381-343d-4cd0-bdb6-a71fda9816bd', 'SysClient0201.systemia.com', 4472, 6068, 'SYSTEMIACOM\\\\zleazer', -1, datetime.datetime(2019, 9, 16, 20, 23, 30, 643000))\n",
      "(146716, '91eac33f-606a-4da2-bf19-351b1f46e3bd', 'PROCESS', '47527d59-9f36-4316-af42-a9ab152f6959', 'TERMINATE', '47527d59-9f36-4316-af42-a9ab152f6959', 'SysClient0201.systemia.com', 6068, 6084, 'SYSTEMIACOM\\\\zleazer', -1, datetime.datetime(2019, 9, 16, 20, 23, 30, 646000))\n",
      "(146717, 'fb78d72d-7b74-4a2d-835c-c872e3fd6333', 'PROCESS', '4fda419b-78fc-4fdc-bd90-2c789ffb8a7b', 'TERMINATE', '4fda419b-78fc-4fdc-bd90-2c789ffb8a7b', 'SysClient0201.systemia.com', 5060, 6084, 'SYSTEMIACOM\\\\zleazer', -1, datetime.datetime(2019, 9, 16, 20, 23, 30, 649000))\n",
      "(151372, '1f67dbca-13a5-4326-8338-573aab4f9f99', 'PROCESS', '2c4affc0-9c83-4b28-a887-787ed5884c15', 'TERMINATE', '2c4affc0-9c83-4b28-a887-787ed5884c15', 'SysClient0201.systemia.com', 1708, 5520, 'SYSTEMIACOM\\\\zleazer', -1, datetime.datetime(2019, 9, 16, 20, 23, 39, 464000))\n",
      "(151379, 'a4857f05-fac5-4b3e-98de-53ba21cbd890', 'PROCESS', 'efd02436-f860-4ec4-b8b7-428d5b6b0f9d', 'TERMINATE', 'efd02436-f860-4ec4-b8b7-428d5b6b0f9d', 'SysClient0201.systemia.com', 5240, 4544, 'SYSTEMIACOM\\\\zleazer', -1, datetime.datetime(2019, 9, 16, 20, 23, 39, 663000))\n",
      "(152642, '20ba44d0-f967-4fbb-b4e1-f46989c22a51', 'PROCESS', 'c47d9696-a936-4032-af4e-2ba2a7d213a1', 'TERMINATE', 'c47d9696-a936-4032-af4e-2ba2a7d213a1', 'SysClient0201.systemia.com', 3320, 4016, 'SYSTEMIACOM\\\\zleazer', -1, datetime.datetime(2019, 9, 16, 20, 23, 41, 734000))\n",
      "(155287, '88d6b4ee-1a65-4108-a7fe-f0df5fe8ab79', 'PROCESS', '5a64d58e-2c5b-4bb4-911a-eccc43a7e47f', 'TERMINATE', '5a64d58e-2c5b-4bb4-911a-eccc43a7e47f', 'SysClient0201.systemia.com', 2440, 5004, 'SYSTEMIACOM\\\\zleazer', -1, datetime.datetime(2019, 9, 16, 20, 23, 46, 908000))\n",
      "(155808, '811d8071-224f-4280-a590-9352cd4cfd0a', 'PROCESS', '494f58a8-82d2-48d8-87f9-5b21417479c7', 'TERMINATE', '494f58a8-82d2-48d8-87f9-5b21417479c7', 'SysClient0201.systemia.com', 3500, 4800, 'SYSTEMIACOM\\\\zleazer', -1, datetime.datetime(2019, 9, 16, 20, 23, 48, 871000))\n",
      "(158317, 'abfdceb6-32a6-40f5-84d5-2d6ed4df5854', 'PROCESS', '1b084f49-6f1e-4a9f-abc9-bf05f34a0c9d', 'TERMINATE', '1b084f49-6f1e-4a9f-abc9-bf05f34a0c9d', 'SysClient0201.systemia.com', 5032, 3344, 'SYSTEMIACOM\\\\zleazer', -1, datetime.datetime(2019, 9, 16, 20, 24, 1, 86000))\n",
      "(185106, 'ef21e5e9-8027-4293-b150-f1bbc8d7ce85', 'PROCESS', '3681beb2-c25a-4ea6-8a7b-e211ff3e4ba9', 'TERMINATE', '3681beb2-c25a-4ea6-8a7b-e211ff3e4ba9', 'SysClient0201.systemia.com', 3524, 196, 'SYSTEMIACOM\\\\zleazer', -1, datetime.datetime(2019, 9, 16, 20, 29, 16, 934000))\n"
     ]
    },
    {
     "name": "stdout",
     "output_type": "stream",
     "text": [
      "(205708, 'c784123a-8e74-484c-b3d9-8b0cddcc7376', 'PROCESS', '2b3052a3-8645-4a39-ae85-1292961cdc22', 'TERMINATE', '2b3052a3-8645-4a39-ae85-1292961cdc22', 'SysClient0201.systemia.com', 3724, 2232, 'NT AUTHORITY\\\\SYSTEM', -1, datetime.datetime(2019, 9, 16, 20, 37, 14, 571000))\n",
      "(212940, '2914f0ee-8f34-42ef-b9bb-1286db37218e', 'PROCESS', 'bb7bdc09-601f-47ab-a127-66b79252f46e', 'TERMINATE', 'bb7bdc09-601f-47ab-a127-66b79252f46e', 'SysClient0201.systemia.com', 5920, 3736, 'SYSTEMIACOM\\\\zleazer', -1, datetime.datetime(2019, 9, 16, 20, 38, 43, 187000))\n",
      "(271882, '87e622cf-9357-4e99-bab5-971196d79d6d', 'PROCESS', 'fdbdc251-e7e8-42ae-9ec9-e556cea318ed', 'TERMINATE', 'fdbdc251-e7e8-42ae-9ec9-e556cea318ed', 'SysClient0201.systemia.com', 5316, 4424, 'NT AUTHORITY\\\\SYSTEM', -1, datetime.datetime(2019, 9, 16, 21, 7, 11, 209000))\n",
      "(288893, 'b016b63b-4ccf-459c-aaad-16ef1fd503ae', 'PROCESS', 'b7483375-c589-47f8-b415-ef9d15ddd5d5', 'TERMINATE', 'b7483375-c589-47f8-b415-ef9d15ddd5d5', 'SysClient0201.systemia.com', 5464, 2904, 'SYSTEMIACOM\\\\zleazer', -1, datetime.datetime(2019, 9, 16, 21, 18, 27, 428000))\n",
      "(292442, 'f917a230-e5bd-49ab-93b3-d6626a519cb3', 'PROCESS', '7f471782-2717-4985-a367-ccffcaef3e53', 'TERMINATE', '7f471782-2717-4985-a367-ccffcaef3e53', 'SysClient0201.systemia.com', 5928, 5640, 'SYSTEMIACOM\\\\zleazer', -1, datetime.datetime(2019, 9, 16, 21, 20, 23, 580000))\n",
      "(344400, '3ea00c09-dc35-4f34-ad0e-0d4e0b7594f4', 'PROCESS', '24900daa-0746-483d-b048-4a9f020fbc12', 'TERMINATE', '24900daa-0746-483d-b048-4a9f020fbc12', 'SysClient0201.systemia.com', 4228, 4960, 'NT AUTHORITY\\\\SYSTEM', -1, datetime.datetime(2019, 9, 16, 21, 37, 11, 5000))\n",
      "(397338, '70646915-9b1d-4483-ad6c-0a0b61b93add', 'PROCESS', '30c6073c-8afb-45c4-bdbc-33ef10532afb', 'TERMINATE', '30c6073c-8afb-45c4-bdbc-33ef10532afb', 'SysClient0201.systemia.com', 2636, 5664, 'NT AUTHORITY\\\\SYSTEM', -1, datetime.datetime(2019, 9, 16, 22, 7, 12, 630000))\n",
      "(409976, 'dcf1a39e-826d-4d49-8170-cf0b1c00a336', 'PROCESS', '1f06ccaf-bc69-4e4c-9e7d-308af8ca976f', 'TERMINATE', '1f06ccaf-bc69-4e4c-9e7d-308af8ca976f', 'SysClient0201.systemia.com', 2928, 2168, 'NT AUTHORITY\\\\SYSTEM', -1, datetime.datetime(2019, 9, 16, 22, 12, 3, 151000))\n",
      "(420301, 'cc8a9858-29b0-44c2-807e-c603a199c705', 'PROCESS', '7f9a5e8c-5ddc-46ab-b2d4-c42978a3ed80', 'TERMINATE', '7f9a5e8c-5ddc-46ab-b2d4-c42978a3ed80', 'SysClient0201.systemia.com', 3736, 5324, 'SYSTEMIACOM\\\\zleazer', -1, datetime.datetime(2019, 9, 16, 22, 20, 55, 125000))\n",
      "(422759, '46055cce-68fd-498e-8930-ed8156f237af', 'PROCESS', 'b326cb32-04ce-46fc-83be-579ba70e30cd', 'TERMINATE', 'b326cb32-04ce-46fc-83be-579ba70e30cd', 'SysClient0201.systemia.com', 3704, 3600, 'SYSTEMIACOM\\\\zleazer', -1, datetime.datetime(2019, 9, 16, 22, 21, 17, 772000))\n",
      "(423261, '58c06f0c-0dc4-442e-8f64-6b901418b2d8', 'PROCESS', 'c8612410-8853-4e1b-a6ea-341af3841e5b', 'TERMINATE', 'c8612410-8853-4e1b-a6ea-341af3841e5b', 'SysClient0201.systemia.com', 5932, 2344, 'SYSTEMIACOM\\\\zleazer', -1, datetime.datetime(2019, 9, 16, 22, 21, 22, 957000))\n",
      "(423263, '4cb3da4a-2c75-4f29-9f22-4486849622b0', 'PROCESS', 'c5af987b-5581-40e7-8680-c80d8c820e58', 'TERMINATE', 'c5af987b-5581-40e7-8680-c80d8c820e58', 'SysClient0201.systemia.com', 4900, 4320, 'SYSTEMIACOM\\\\zleazer', -1, datetime.datetime(2019, 9, 16, 22, 21, 22, 962000))\n",
      "(423265, 'fe97a0da-7e8e-48a0-8f94-6860438aace8', 'PROCESS', '8e4ec407-1e2d-422c-84c0-29e6a5bb9d5d', 'TERMINATE', '8e4ec407-1e2d-422c-84c0-29e6a5bb9d5d', 'SysClient0201.systemia.com', 1876, 2236, 'SYSTEMIACOM\\\\zleazer', -1, datetime.datetime(2019, 9, 16, 22, 21, 23, 303000))\n",
      "(423606, '9a14d0d7-0152-4911-8dac-15721d15a715', 'PROCESS', 'd784dbd5-10ac-4ffa-b20a-146ea69d9041', 'TERMINATE', 'd784dbd5-10ac-4ffa-b20a-146ea69d9041', 'SysClient0201.systemia.com', 4920, 3348, 'SYSTEMIACOM\\\\zleazer', -1, datetime.datetime(2019, 9, 16, 22, 21, 28, 478000))\n",
      "(423607, '3cef53da-e235-4fa6-971f-bc28a914f747', 'PROCESS', '0d009bf4-2b09-4c94-9b16-be512e0497e9', 'TERMINATE', '0d009bf4-2b09-4c94-9b16-be512e0497e9', 'SysClient0201.systemia.com', 3348, 6012, 'SYSTEMIACOM\\\\zleazer', -1, datetime.datetime(2019, 9, 16, 22, 21, 28, 481000))\n",
      "(423608, '580c6545-c78b-4f96-bb95-90069aaa3705', 'PROCESS', '63018429-0f15-45e8-96f8-4f7befb5c634', 'TERMINATE', '63018429-0f15-45e8-96f8-4f7befb5c634', 'SysClient0201.systemia.com', 652, 6012, 'SYSTEMIACOM\\\\zleazer', -1, datetime.datetime(2019, 9, 16, 22, 21, 28, 483000))\n",
      "(424303, '3be97de4-d404-43c8-9a01-fa5577d341f8', 'PROCESS', 'e912457d-78c1-472b-a2d4-93185c794663', 'TERMINATE', 'e912457d-78c1-472b-a2d4-93185c794663', 'SysClient0201.systemia.com', 4280, 5188, 'SYSTEMIACOM\\\\zleazer', -1, datetime.datetime(2019, 9, 16, 22, 21, 39, 542000))\n",
      "(424304, '886afbc8-b151-484e-b782-8679c4f2b9a2', 'PROCESS', 'c574fdb1-80db-4ee6-bf3d-076a502136d9', 'TERMINATE', 'c574fdb1-80db-4ee6-bf3d-076a502136d9', 'SysClient0201.systemia.com', 5188, 4932, 'SYSTEMIACOM\\\\zleazer', -1, datetime.datetime(2019, 9, 16, 22, 21, 39, 545000))\n",
      "(424305, '61f08f24-65b9-4f77-badc-3c136abb1cba', 'PROCESS', '47b8c2d3-7e57-4645-ae14-477ad9b8f273', 'TERMINATE', '47b8c2d3-7e57-4645-ae14-477ad9b8f273', 'SysClient0201.systemia.com', 2168, 4932, 'SYSTEMIACOM\\\\zleazer', -1, datetime.datetime(2019, 9, 16, 22, 21, 39, 549000))\n",
      "(426166, '40c4312b-e8ee-40bc-977e-c2f9833192e2', 'PROCESS', '6fbe5c4d-ee91-49a9-85c3-216871a53402', 'TERMINATE', '6fbe5c4d-ee91-49a9-85c3-216871a53402', 'SysClient0201.systemia.com', 6112, 5160, 'SYSTEMIACOM\\\\zleazer', -1, datetime.datetime(2019, 9, 16, 22, 21, 51, 738000))\n",
      "(426167, '2278ab6a-3cf2-4a0d-a06d-179e2e3d28c7', 'PROCESS', 'aa338108-735a-432c-a60a-e36c679f856e', 'TERMINATE', 'aa338108-735a-432c-a60a-e36c679f856e', 'SysClient0201.systemia.com', 5368, 5160, 'SYSTEMIACOM\\\\zleazer', -1, datetime.datetime(2019, 9, 16, 22, 21, 51, 741000))\n",
      "(426168, '3599ee75-8b73-4e38-b378-e5ad2d20b998', 'PROCESS', '4f6443a4-a3af-4131-9234-5ff2763fa670', 'TERMINATE', '4f6443a4-a3af-4131-9234-5ff2763fa670', 'SysClient0201.systemia.com', 3064, 6112, 'SYSTEMIACOM\\\\zleazer', -1, datetime.datetime(2019, 9, 16, 22, 21, 51, 736000))\n",
      "(426712, '51bb2eb6-23b6-4507-9f22-847e167e8120', 'PROCESS', '74f8ea92-6c8f-4f6e-9b22-98a801e5bc15', 'TERMINATE', '74f8ea92-6c8f-4f6e-9b22-98a801e5bc15', 'SysClient0201.systemia.com', 5768, 244, 'SYSTEMIACOM\\\\zleazer', -1, datetime.datetime(2019, 9, 16, 22, 21, 53, 521000))\n",
      "(427842, '9a5e502a-1d49-4222-a8f5-c8925d174329', 'PROCESS', '5ef9912e-006e-4a7e-88ea-23f768e9f839', 'TERMINATE', '5ef9912e-006e-4a7e-88ea-23f768e9f839', 'SysClient0201.systemia.com', 6100, 3176, 'SYSTEMIACOM\\\\zleazer', -1, datetime.datetime(2019, 9, 16, 22, 21, 57, 636000))\n",
      "(427843, '1a98f984-017a-401c-af0e-8d787032dc04', 'PROCESS', '0d54d500-0cfa-4226-88b8-942a4f2f97a8', 'TERMINATE', '0d54d500-0cfa-4226-88b8-942a4f2f97a8', 'SysClient0201.systemia.com', 3176, 2464, 'SYSTEMIACOM\\\\zleazer', -1, datetime.datetime(2019, 9, 16, 22, 21, 57, 639000))\n",
      "(427844, '79360adf-983f-4f55-811a-22187c577a57', 'PROCESS', '16c5b8d9-0a97-42c4-aa80-c19a4e32fe0e', 'TERMINATE', '16c5b8d9-0a97-42c4-aa80-c19a4e32fe0e', 'SysClient0201.systemia.com', 3396, 2464, 'SYSTEMIACOM\\\\zleazer', -1, datetime.datetime(2019, 9, 16, 22, 21, 57, 644000))\n",
      "(427846, '0bfe0059-a2e0-4839-8de7-ad0a8472ac2b', 'PROCESS', 'ccfa6978-ff01-4a59-9a2e-d35363d02d3f', 'TERMINATE', 'ccfa6978-ff01-4a59-9a2e-d35363d02d3f', 'SysClient0201.systemia.com', 5304, 4780, 'SYSTEMIACOM\\\\zleazer', -1, datetime.datetime(2019, 9, 16, 22, 21, 57, 998000))\n",
      "(429549, '3d1d1d19-8b2d-4d77-8633-cf452ad79c94', 'PROCESS', '1e3b2f42-1c39-4352-bbde-735e83f93aa9', 'TERMINATE', '1e3b2f42-1c39-4352-bbde-735e83f93aa9', 'SysClient0201.systemia.com', 2220, 4508, 'SYSTEMIACOM\\\\zleazer', -1, datetime.datetime(2019, 9, 16, 22, 22, 2, 702000))\n",
      "(430783, 'af53c993-1984-4236-8bd8-20318f1dd59c', 'PROCESS', '8e2c3427-23a4-4026-9503-8492d40eeab4', 'TERMINATE', '8e2c3427-23a4-4026-9503-8492d40eeab4', 'SysClient0201.systemia.com', 4632, 2768, 'SYSTEMIACOM\\\\zleazer', -1, datetime.datetime(2019, 9, 16, 22, 22, 7, 759000))\n",
      "(430787, 'e22f7e78-e771-4db4-adc5-b303f42d0a3f', 'PROCESS', 'a9446d61-8c10-4d92-a29e-25628d5d24d4', 'TERMINATE', 'a9446d61-8c10-4d92-a29e-25628d5d24d4', 'SysClient0201.systemia.com', 4548, 4240, 'SYSTEMIACOM\\\\zleazer', -1, datetime.datetime(2019, 9, 16, 22, 22, 8, 230000))\n",
      "(432641, '43e13271-a8cd-4010-a738-a797017ae380', 'PROCESS', '96e812e0-6a26-4c6f-b82a-96c402e5681d', 'TERMINATE', '96e812e0-6a26-4c6f-b82a-96c402e5681d', 'SysClient0201.systemia.com', 3996, 2548, 'SYSTEMIACOM\\\\zleazer', -1, datetime.datetime(2019, 9, 16, 22, 22, 14, 65000))\n",
      "(433577, 'cd2fd606-54ba-468c-b460-0450912dc36b', 'PROCESS', '797498db-2efc-4986-b0bb-b0ffe893a13e', 'TERMINATE', '797498db-2efc-4986-b0bb-b0ffe893a13e', 'SysClient0201.systemia.com', 5668, 5284, 'SYSTEMIACOM\\\\zleazer', -1, datetime.datetime(2019, 9, 16, 22, 22, 16, 646000))\n",
      "(435016, '816a7ed3-ab76-4966-911b-9d3bf1eb8e20', 'PROCESS', 'f376ff47-c9d0-4ec8-bada-d8825e0a2631', 'TERMINATE', 'f376ff47-c9d0-4ec8-bada-d8825e0a2631', 'SysClient0201.systemia.com', 2640, 5336, 'SYSTEMIACOM\\\\zleazer', -1, datetime.datetime(2019, 9, 16, 22, 22, 20, 183000))\n",
      "(435615, 'edf7ca62-610a-4c8c-ae1e-6d74f83a8865', 'PROCESS', 'ff1abfd2-7f7b-42fa-bb98-cdd38ed06548', 'TERMINATE', 'ff1abfd2-7f7b-42fa-bb98-cdd38ed06548', 'SysClient0201.systemia.com', 3324, 5484, 'SYSTEMIACOM\\\\zleazer', -1, datetime.datetime(2019, 9, 16, 22, 22, 22, 280000))\n",
      "(437937, '16a61d9e-666c-4451-b021-248cf2ec9828', 'PROCESS', 'f2d71fcd-990a-467f-8131-7cf8463de469', 'TERMINATE', 'f2d71fcd-990a-467f-8131-7cf8463de469', 'SysClient0201.systemia.com', 3620, 2328, 'SYSTEMIACOM\\\\zleazer', -1, datetime.datetime(2019, 9, 16, 22, 22, 27, 462000))\n",
      "(437938, 'f22b8637-449e-4154-a799-ccd6194fceb9', 'PROCESS', '5ff52ab6-95a5-4908-9e4c-8bd18bf8eaed', 'TERMINATE', '5ff52ab6-95a5-4908-9e4c-8bd18bf8eaed', 'SysClient0201.systemia.com', 2328, 5776, 'SYSTEMIACOM\\\\zleazer', -1, datetime.datetime(2019, 9, 16, 22, 22, 27, 465000))\n",
      "(437939, '25ad114e-1917-4da6-aa96-dbc213993a49', 'PROCESS', '0f2e9e36-6957-4e19-af38-a35824b59a22', 'TERMINATE', '0f2e9e36-6957-4e19-af38-a35824b59a22', 'SysClient0201.systemia.com', 4404, 5776, 'SYSTEMIACOM\\\\zleazer', -1, datetime.datetime(2019, 9, 16, 22, 22, 27, 470000))\n",
      "(438731, 'b171ca0b-ca26-488f-9791-6633160c1c34', 'PROCESS', '8a0a2513-2c8d-44e3-838b-6862ac45d931', 'TERMINATE', '8a0a2513-2c8d-44e3-838b-6862ac45d931', 'SysClient0201.systemia.com', 3900, 4012, 'SYSTEMIACOM\\\\zleazer', -1, datetime.datetime(2019, 9, 16, 22, 22, 30, 198000))\n",
      "(439657, '362ba107-caea-47ac-9e69-ef0e56ab2cdd', 'PROCESS', '1731495d-ced0-4f5c-9220-1f950a7f0ac2', 'TERMINATE', '1731495d-ced0-4f5c-9220-1f950a7f0ac2', 'SysClient0201.systemia.com', 1664, 3520, 'SYSTEMIACOM\\\\zleazer', -1, datetime.datetime(2019, 9, 16, 22, 22, 32, 315000))\n",
      "(442688, 'ba4556e1-7114-492e-9b3b-83e2f7b51a5b', 'PROCESS', '4d4c8ac2-1d7e-47bf-99a1-55e991c1a94a', 'TERMINATE', '4d4c8ac2-1d7e-47bf-99a1-55e991c1a94a', 'SysClient0201.systemia.com', 4388, 5288, 'SYSTEMIACOM\\\\zleazer', -1, datetime.datetime(2019, 9, 16, 22, 22, 40, 805000))\n",
      "(442956, 'f6314ff5-48af-4991-a3e9-0b2d18b8e3c6', 'PROCESS', '94e6e155-d50d-4b15-88bd-fa0a523dcdd2', 'TERMINATE', '94e6e155-d50d-4b15-88bd-fa0a523dcdd2', 'SysClient0201.systemia.com', 4664, -1, '', -1, datetime.datetime(2019, 9, 16, 22, 22, 41, 263000))\n",
      "(443817, 'edad6dd5-6007-4faf-ad46-259845e6bf7a', 'PROCESS', '3f57fbee-08b5-4eaf-a1d2-9f15274472bf', 'TERMINATE', '3f57fbee-08b5-4eaf-a1d2-9f15274472bf', 'SysClient0201.systemia.com', 5240, 3796, 'SYSTEMIACOM\\\\zleazer', -1, datetime.datetime(2019, 9, 16, 22, 22, 43, 401000))\n",
      "(444653, 'fcb07427-8253-43da-a0d9-1cdfb1cab582', 'PROCESS', 'cb3c63bf-d035-4c98-bada-da74813850ed', 'TERMINATE', 'cb3c63bf-d035-4c98-bada-da74813850ed', 'SysClient0201.systemia.com', 5304, 4820, 'SYSTEMIACOM\\\\zleazer', -1, datetime.datetime(2019, 9, 16, 22, 22, 45, 489000))\n",
      "(444654, '5a51ce54-131f-4445-acb5-c5f0422863b9', 'PROCESS', 'bc79814c-29b4-4faa-98d4-8453dc864b32', 'TERMINATE', 'bc79814c-29b4-4faa-98d4-8453dc864b32', 'SysClient0201.systemia.com', 4820, 1068, 'SYSTEMIACOM\\\\zleazer', -1, datetime.datetime(2019, 9, 16, 22, 22, 45, 491000))\n",
      "(444655, 'fe1a38fb-2d6b-421d-98b1-390ce27692ba', 'PROCESS', '375b02cb-9c43-4c39-95f2-230bd181d7ee', 'TERMINATE', '375b02cb-9c43-4c39-95f2-230bd181d7ee', 'SysClient0201.systemia.com', 3992, 1068, 'SYSTEMIACOM\\\\zleazer', -1, datetime.datetime(2019, 9, 16, 22, 22, 45, 495000))\n",
      "(450315, '18abe86e-de49-4d35-a541-279aab6065f8', 'PROCESS', 'f8e7aaaf-5eae-4958-8d5c-9a7af3526893', 'TERMINATE', 'f8e7aaaf-5eae-4958-8d5c-9a7af3526893', 'SysClient0201.systemia.com', 812, 3316, 'SYSTEMIACOM\\\\zleazer', -1, datetime.datetime(2019, 9, 16, 22, 23, 0, 887000))\n",
      "(450322, 'd183bacd-7081-4511-8ae1-cb7c56779de1', 'PROCESS', '3ace6814-5441-4d43-a775-c94d75a088b7', 'TERMINATE', '3ace6814-5441-4d43-a775-c94d75a088b7', 'SysClient0201.systemia.com', 3032, 1628, 'SYSTEMIACOM\\\\zleazer', -1, datetime.datetime(2019, 9, 16, 22, 23, 1, 96000))\n",
      "(450325, '74cc469d-c52a-4ba9-afc5-be7f977eb687', 'PROCESS', 'a1d056cb-ddec-4976-9a3c-ba597e9c7d1d', 'TERMINATE', 'a1d056cb-ddec-4976-9a3c-ba597e9c7d1d', 'SysClient0201.systemia.com', 2336, 2100, 'SYSTEMIACOM\\\\zleazer', -1, datetime.datetime(2019, 9, 16, 22, 23, 1, 271000))\n",
      "(454001, '57c01a4b-0020-47d0-9a53-a6f7b3444c07', 'PROCESS', '31a63f65-c4c3-41d0-9ff4-f66991b57b93', 'TERMINATE', '31a63f65-c4c3-41d0-9ff4-f66991b57b93', 'SysClient0201.systemia.com', 5520, 284, 'SYSTEMIACOM\\\\zleazer', -1, datetime.datetime(2019, 9, 16, 22, 23, 11, 49000))\n",
      "(454005, '6faa1cc3-32c9-4692-af5e-95068f1e497a', 'PROCESS', '3a5ef45a-1738-4d06-b9dd-d454a68f3987', 'TERMINATE', '3a5ef45a-1738-4d06-b9dd-d454a68f3987', 'SysClient0201.systemia.com', 2908, 4916, 'SYSTEMIACOM\\\\zleazer', -1, datetime.datetime(2019, 9, 16, 22, 23, 11, 586000))\n",
      "(454326, 'eddda026-d8de-4b9b-b7e5-deb037c3b4d0', 'PROCESS', '5636b1af-7cc9-4739-8f70-809f8c6f9a2b', 'TERMINATE', '5636b1af-7cc9-4739-8f70-809f8c6f9a2b', 'SysClient0201.systemia.com', 3240, 3528, 'SYSTEMIACOM\\\\zleazer', -1, datetime.datetime(2019, 9, 16, 22, 23, 16, 806000))\n",
      "(454329, 'e3e4d980-de19-442e-abca-cd02c12ed786', 'PROCESS', 'bf56a7bf-b3c4-4495-9fba-408f738bfd7a', 'TERMINATE', 'bf56a7bf-b3c4-4495-9fba-408f738bfd7a', 'SysClient0201.systemia.com', 5356, 348, 'SYSTEMIACOM\\\\zleazer', -1, datetime.datetime(2019, 9, 16, 22, 23, 17, 94000))\n",
      "(456061, '32bcbf0b-98d9-4463-8803-6b96a3951719', 'PROCESS', 'ae6728ec-909f-469a-afc7-e44f8e07f4fb', 'TERMINATE', 'ae6728ec-909f-469a-afc7-e44f8e07f4fb', 'SysClient0201.systemia.com', 2556, 2632, 'SYSTEMIACOM\\\\zleazer', -1, datetime.datetime(2019, 9, 16, 22, 23, 33, 743000))\n",
      "(456063, '9d5e6707-b1ee-44dd-86a8-ea91198837de', 'PROCESS', '81575742-a5b2-4fdd-bd19-74de823f89e9', 'TERMINATE', '81575742-a5b2-4fdd-bd19-74de823f89e9', 'SysClient0201.systemia.com', 3408, 5284, 'SYSTEMIACOM\\\\zleazer', -1, datetime.datetime(2019, 9, 16, 22, 23, 33, 750000))\n",
      "(456442, '9c921e0a-fda5-441a-9ff0-9167eeb88513', 'PROCESS', '6272ef2b-ac4c-4764-8140-671587fe22a5', 'TERMINATE', '6272ef2b-ac4c-4764-8140-671587fe22a5', 'SysClient0201.systemia.com', 612, 4928, 'SYSTEMIACOM\\\\zleazer', -1, datetime.datetime(2019, 9, 16, 22, 23, 35, 634000))\n",
      "(458860, '644b051c-6e97-44d5-9a19-9218c94dfe31', 'PROCESS', '66be390c-df73-4660-9475-f28b91795471', 'TERMINATE', '66be390c-df73-4660-9475-f28b91795471', 'SysClient0201.systemia.com', 2928, 4404, 'SYSTEMIACOM\\\\zleazer', -1, datetime.datetime(2019, 9, 16, 22, 23, 44, 85000))\n",
      "(458861, 'b219c0ec-d727-41af-b467-4c4793a70d63', 'PROCESS', 'be40cbf8-6591-46d5-a720-628cf58016ae', 'TERMINATE', 'be40cbf8-6591-46d5-a720-628cf58016ae', 'SysClient0201.systemia.com', 5900, 4404, 'SYSTEMIACOM\\\\zleazer', -1, datetime.datetime(2019, 9, 16, 22, 23, 44, 87000))\n",
      "(459734, 'b9e5dddd-dd06-4b1a-9a32-eba1424f64b2', 'PROCESS', 'e57a31c0-cd85-4576-8323-b638732bc1c0', 'TERMINATE', 'e57a31c0-cd85-4576-8323-b638732bc1c0', 'SysClient0201.systemia.com', 5920, 4628, 'SYSTEMIACOM\\\\zleazer', -1, datetime.datetime(2019, 9, 16, 22, 23, 46, 391000))\n",
      "(460585, 'f536a355-61d1-419c-8c72-9874f045bd0e', 'PROCESS', '02222563-89ec-4099-974d-a5a9b97e2e07', 'TERMINATE', '02222563-89ec-4099-974d-a5a9b97e2e07', 'SysClient0201.systemia.com', 4812, 2196, 'SYSTEMIACOM\\\\zleazer', -1, datetime.datetime(2019, 9, 16, 22, 23, 50, 153000))\n",
      "(460588, '9c2a3c4a-fc3e-45b2-b623-6ee57a2fe9f8', 'PROCESS', '53d4b978-66f2-464e-b6e1-911933925871', 'TERMINATE', '53d4b978-66f2-464e-b6e1-911933925871', 'SysClient0201.systemia.com', 3224, 2196, 'SYSTEMIACOM\\\\zleazer', -1, datetime.datetime(2019, 9, 16, 22, 23, 50, 150000))\n",
      "(461056, 'b2815db9-8c31-4630-b877-1e343d3beae4', 'PROCESS', '5d823aaa-5c86-40a2-a044-6184198065e7', 'TERMINATE', '5d823aaa-5c86-40a2-a044-6184198065e7', 'SysClient0201.systemia.com', 3684, 5996, 'SYSTEMIACOM\\\\zleazer', -1, datetime.datetime(2019, 9, 16, 22, 23, 52, 281000))\n",
      "(461062, 'fe2b315d-ac64-46aa-8635-e302bc9bbe7e', 'PROCESS', '35256fd4-ea0e-4738-aacd-6db7f29f4f84', 'TERMINATE', '35256fd4-ea0e-4738-aacd-6db7f29f4f84', 'SysClient0201.systemia.com', 5828, 6124, 'SYSTEMIACOM\\\\zleazer', -1, datetime.datetime(2019, 9, 16, 22, 23, 52, 589000))\n",
      "(462493, '1ae7177f-16cd-4df0-a83a-a03fb26c6566', 'PROCESS', '87f05fb1-736e-4abf-a177-434fa7b3ec67', 'TERMINATE', '87f05fb1-736e-4abf-a177-434fa7b3ec67', 'SysClient0201.systemia.com', 2232, 4948, 'SYSTEMIACOM\\\\zleazer', -1, datetime.datetime(2019, 9, 16, 22, 23, 58, 915000))\n",
      "(464071, '20550d90-0eb7-42ed-8d5c-d5fde106cf5f', 'PROCESS', '914cbb46-6af8-4518-8efd-dcda0a548b52', 'TERMINATE', '914cbb46-6af8-4518-8efd-dcda0a548b52', 'SysClient0201.systemia.com', 5892, 6000, 'SYSTEMIACOM\\\\zleazer', -1, datetime.datetime(2019, 9, 16, 22, 24, 3, 563000))\n",
      "(466320, 'f5bf3199-e1d2-4510-a550-41eba7d14588', 'PROCESS', '4d6f93a9-8161-4a6a-abf2-9e42be826e25', 'TERMINATE', '4d6f93a9-8161-4a6a-abf2-9e42be826e25', 'SysClient0201.systemia.com', 5896, 2148, 'SYSTEMIACOM\\\\zleazer', -1, datetime.datetime(2019, 9, 16, 22, 24, 7, 543000))\n",
      "(466323, '27afa04a-14ca-4f08-b0cd-bf4f62eac7f3', 'PROCESS', 'c6b26ae1-8775-4b28-84c6-dd94a14eea2b', 'TERMINATE', 'c6b26ae1-8775-4b28-84c6-dd94a14eea2b', 'SysClient0201.systemia.com', 4020, 2100, 'SYSTEMIACOM\\\\zleazer', -1, datetime.datetime(2019, 9, 16, 22, 24, 7, 532000))\n",
      "(469650, 'cc6f064f-e4a8-4d51-9b8d-06edc861694b', 'PROCESS', '67ff4677-f966-4590-9811-19ac5a05151a', 'TERMINATE', '67ff4677-f966-4590-9811-19ac5a05151a', 'SysClient0201.systemia.com', 4240, 5728, 'SYSTEMIACOM\\\\zleazer', -1, datetime.datetime(2019, 9, 16, 22, 24, 15, 807000))\n"
     ]
    },
    {
     "name": "stdout",
     "output_type": "stream",
     "text": [
      "(471694, '0c94022c-29b0-4185-a036-d7e11a47a6df', 'PROCESS', '24990bb6-474e-411e-8a7d-fea137fdb2b8', 'TERMINATE', '24990bb6-474e-411e-8a7d-fea137fdb2b8', 'SysClient0201.systemia.com', 5424, 2656, 'SYSTEMIACOM\\\\zleazer', -1, datetime.datetime(2019, 9, 16, 22, 24, 20, 711000))\n",
      "(476432, '01f77498-00ef-436a-a76d-620564e83aa8', 'PROCESS', '20089758-1d69-4576-a6e8-2331885aa7f0', 'TERMINATE', '20089758-1d69-4576-a6e8-2331885aa7f0', 'SysClient0201.systemia.com', 1156, 820, 'SYSTEMIACOM\\\\zleazer', -1, datetime.datetime(2019, 9, 16, 22, 24, 32, 779000))\n",
      "(572507, '8534eaf3-ab3a-451c-a5aa-a81fb8fd8d06', 'PROCESS', 'aef46c37-b72d-40c4-9953-8ef519bf3069', 'TERMINATE', 'aef46c37-b72d-40c4-9953-8ef519bf3069', 'SysClient0201.systemia.com', 4896, 4072, 'SYSTEMIACOM\\\\zleazer', -1, datetime.datetime(2019, 9, 16, 23, 8, 10, 875000))\n",
      "(573134, '236a76d1-be3e-45af-91c5-e2761b8b00ab', 'PROCESS', '435347c8-fe5c-4a86-8a54-e75f1951c214', 'TERMINATE', '435347c8-fe5c-4a86-8a54-e75f1951c214', 'SysClient0201.systemia.com', 3964, 5040, 'SYSTEMIACOM\\\\zleazer', -1, datetime.datetime(2019, 9, 16, 23, 8, 16, 614000))\n",
      "(573746, 'd94c60c9-6af6-41fd-adc1-08899f56a5dd', 'PROCESS', '314881f0-2ab0-493c-9b6e-de25c8c3dc92', 'TERMINATE', '314881f0-2ab0-493c-9b6e-de25c8c3dc92', 'SysClient0201.systemia.com', 4628, 4432, 'SYSTEMIACOM\\\\zleazer', -1, datetime.datetime(2019, 9, 16, 23, 8, 22, 268000))\n",
      "(574463, '82f9cd15-fbdd-42d7-a28e-c4e8c46602e7', 'PROCESS', '3e991451-d7b5-4ec0-b9ec-1d47679e2a90', 'TERMINATE', '3e991451-d7b5-4ec0-b9ec-1d47679e2a90', 'SysClient0201.systemia.com', 2656, 4008, 'SYSTEMIACOM\\\\zleazer', -1, datetime.datetime(2019, 9, 16, 23, 8, 27, 778000))\n",
      "(574464, 'a5ddf45a-f629-4264-9b7c-c7ed32ba8c2f', 'PROCESS', 'af3b8f77-65c7-47b7-9e97-7529a66a4214', 'TERMINATE', 'af3b8f77-65c7-47b7-9e97-7529a66a4214', 'SysClient0201.systemia.com', 4340, 2656, 'SYSTEMIACOM\\\\zleazer', -1, datetime.datetime(2019, 9, 16, 23, 8, 27, 770000))\n",
      "(574465, 'c30b7f8a-cfdb-4569-8741-e4bb263ca1f1', 'PROCESS', 'b87d84b9-0c80-4992-99ee-d65439815d00', 'TERMINATE', 'b87d84b9-0c80-4992-99ee-d65439815d00', 'SysClient0201.systemia.com', 2808, 4008, 'SYSTEMIACOM\\\\zleazer', -1, datetime.datetime(2019, 9, 16, 23, 8, 27, 782000))\n",
      "(574467, '6011f5ab-9b60-4b51-8341-95b1fa2ee5a3', 'PROCESS', 'edaa2e56-64f1-40c6-9c5e-58074b3489ea', 'TERMINATE', 'edaa2e56-64f1-40c6-9c5e-58074b3489ea', 'SysClient0201.systemia.com', 4652, 3800, 'SYSTEMIACOM\\\\zleazer', -1, datetime.datetime(2019, 9, 16, 23, 8, 28, 67000))\n",
      "(578857, '03c3cea0-7665-45fa-9cca-799a9e7ff764', 'PROCESS', '8eaa07b3-6ce8-4d0c-9819-56590ca760ca', 'TERMINATE', '8eaa07b3-6ce8-4d0c-9819-56590ca760ca', 'SysClient0201.systemia.com', 4776, 4808, 'SYSTEMIACOM\\\\zleazer', -1, datetime.datetime(2019, 9, 16, 23, 8, 47, 839000))\n",
      "(582109, '1f41899a-e515-405d-a80a-3d83df5301b2', 'PROCESS', 'f3a7f2a0-bcfe-4f67-827b-098a28fc0c33', 'TERMINATE', 'f3a7f2a0-bcfe-4f67-827b-098a28fc0c33', 'SysClient0201.systemia.com', 616, 3968, 'SYSTEMIACOM\\\\zleazer', -1, datetime.datetime(2019, 9, 16, 23, 9, 1, 362000))\n",
      "(582110, 'f8d349f4-8253-4cad-9bcb-b11faffac972', 'PROCESS', 'b78bd298-893b-4467-9570-1a8515b3900b', 'TERMINATE', 'b78bd298-893b-4467-9570-1a8515b3900b', 'SysClient0201.systemia.com', 5588, 616, 'SYSTEMIACOM\\\\zleazer', -1, datetime.datetime(2019, 9, 16, 23, 9, 1, 360000))\n",
      "(582113, '9a6e688e-51c6-40d9-bc2b-602ed3732a9a', 'PROCESS', '0ce419de-7e8f-4e80-9242-0d68f05a25fc', 'TERMINATE', '0ce419de-7e8f-4e80-9242-0d68f05a25fc', 'SysClient0201.systemia.com', 5304, 3968, 'SYSTEMIACOM\\\\zleazer', -1, datetime.datetime(2019, 9, 16, 23, 9, 1, 364000))\n",
      "(582114, '7f2ba269-8dac-4aed-b99e-f9cbe4a06600', 'PROCESS', '845b56cd-ceea-4cd7-8749-739ba12532ff', 'TERMINATE', '845b56cd-ceea-4cd7-8749-739ba12532ff', 'SysClient0201.systemia.com', 4916, 244, 'SYSTEMIACOM\\\\zleazer', -1, datetime.datetime(2019, 9, 16, 23, 9, 1, 582000))\n",
      "(582477, '1a2383d8-27c4-45fe-b7e1-2cd80d351084', 'PROCESS', '35f28327-effd-4287-8bfb-b3f4bd6b9672', 'TERMINATE', '35f28327-effd-4287-8bfb-b3f4bd6b9672', 'SysClient0201.systemia.com', 5340, 6140, 'SYSTEMIACOM\\\\zleazer', -1, datetime.datetime(2019, 9, 16, 23, 9, 3, 510000))\n",
      "(582892, 'bf2a998d-1ce7-4531-b1a3-bec7bf7bb616', 'PROCESS', 'e533ef7c-be75-4147-b7c7-45b610f1155d', 'TERMINATE', 'e533ef7c-be75-4147-b7c7-45b610f1155d', 'SysClient0201.systemia.com', 5884, 3344, 'SYSTEMIACOM\\\\zleazer', -1, datetime.datetime(2019, 9, 16, 23, 9, 5, 722000))\n",
      "(583857, 'f9625aa8-990b-45ea-9825-9a095d836159', 'PROCESS', '03d5c1aa-c81d-4304-aa9c-66549cec4d9c', 'TERMINATE', '03d5c1aa-c81d-4304-aa9c-66549cec4d9c', 'SysClient0201.systemia.com', 5872, 4328, 'SYSTEMIACOM\\\\zleazer', -1, datetime.datetime(2019, 9, 16, 23, 9, 10, 666000))\n",
      "(589829, '56dafcc7-b991-4ebb-9838-5422467cb85c', 'PROCESS', '4766140d-90af-4c2c-b5f9-75bf69048746', 'TERMINATE', '4766140d-90af-4c2c-b5f9-75bf69048746', 'SysClient0201.systemia.com', 824, 5640, 'SYSTEMIACOM\\\\zleazer', -1, datetime.datetime(2019, 9, 16, 23, 9, 25, 296000))\n",
      "(589834, 'b5cc9012-bb06-4b89-b5fa-72bf9f295e6f', 'PROCESS', '452ed069-222e-48c6-b3ab-6061a6876ce7', 'TERMINATE', '452ed069-222e-48c6-b3ab-6061a6876ce7', 'SysClient0201.systemia.com', 4948, 5776, 'SYSTEMIACOM\\\\zleazer', -1, datetime.datetime(2019, 9, 16, 23, 9, 25, 679000))\n",
      "(594667, '4d90b466-0b19-4825-9b72-c41edbb92d36', 'PROCESS', '22cbfbe4-cdda-499b-9ed0-3d2ae33839bf', 'TERMINATE', '22cbfbe4-cdda-499b-9ed0-3d2ae33839bf', 'SysClient0201.systemia.com', 1964, 5892, 'SYSTEMIACOM\\\\zleazer', -1, datetime.datetime(2019, 9, 16, 23, 9, 34, 628000))\n"
     ]
    },
    {
     "ename": "KeyboardInterrupt",
     "evalue": "",
     "output_type": "error",
     "traceback": [
      "\u001b[0;31m---------------------------------------------------------------------------\u001b[0m",
      "\u001b[0;31mKeyboardInterrupt\u001b[0m                         Traceback (most recent call last)",
      "Input \u001b[0;32mIn [23]\u001b[0m, in \u001b[0;36m<cell line: 1>\u001b[0;34m()\u001b[0m\n\u001b[1;32m      1\u001b[0m \u001b[38;5;28;01mwhile\u001b[39;00m current_index\u001b[38;5;241m<\u001b[39mevent_count:\n\u001b[1;32m      2\u001b[0m     query \u001b[38;5;241m=\u001b[39m skeleton_query\u001b[38;5;241m.\u001b[39mformat(current_index, current_index\u001b[38;5;241m+\u001b[39mchunk_size)\n\u001b[0;32m----> 3\u001b[0m     result_set \u001b[38;5;241m=\u001b[39m \u001b[43msession\u001b[49m\u001b[38;5;241;43m.\u001b[39;49m\u001b[43mexecute\u001b[49m\u001b[43m(\u001b[49m\u001b[43mquery\u001b[49m\u001b[43m)\u001b[49m\n\u001b[1;32m      4\u001b[0m     current_index \u001b[38;5;241m+\u001b[39m\u001b[38;5;241m=\u001b[39m chunk_size\n\u001b[1;32m      5\u001b[0m     \u001b[38;5;66;03m#print('starting checkpoint')\u001b[39;00m\n",
      "File \u001b[0;32m~/anaconda3/envs/envphase2/lib/python3.9/site-packages/sqlalchemy/orm/session.py:1675\u001b[0m, in \u001b[0;36mSession.execute\u001b[0;34m(self, statement, params, execution_options, bind_arguments, _parent_execute_state, _add_event, **kw)\u001b[0m\n\u001b[1;32m   1672\u001b[0m bind \u001b[38;5;241m=\u001b[39m \u001b[38;5;28mself\u001b[39m\u001b[38;5;241m.\u001b[39mget_bind(\u001b[38;5;241m*\u001b[39m\u001b[38;5;241m*\u001b[39mbind_arguments)\n\u001b[1;32m   1674\u001b[0m conn \u001b[38;5;241m=\u001b[39m \u001b[38;5;28mself\u001b[39m\u001b[38;5;241m.\u001b[39m_connection_for_bind(bind, close_with_result\u001b[38;5;241m=\u001b[39m\u001b[38;5;28;01mTrue\u001b[39;00m)\n\u001b[0;32m-> 1675\u001b[0m result \u001b[38;5;241m=\u001b[39m \u001b[43mconn\u001b[49m\u001b[38;5;241;43m.\u001b[39;49m\u001b[43m_execute_20\u001b[49m\u001b[43m(\u001b[49m\u001b[43mstatement\u001b[49m\u001b[43m,\u001b[49m\u001b[43m \u001b[49m\u001b[43mparams\u001b[49m\u001b[43m \u001b[49m\u001b[38;5;129;43;01mor\u001b[39;49;00m\u001b[43m \u001b[49m\u001b[43m{\u001b[49m\u001b[43m}\u001b[49m\u001b[43m,\u001b[49m\u001b[43m \u001b[49m\u001b[43mexecution_options\u001b[49m\u001b[43m)\u001b[49m\n\u001b[1;32m   1677\u001b[0m \u001b[38;5;28;01mif\u001b[39;00m compile_state_cls:\n\u001b[1;32m   1678\u001b[0m     result \u001b[38;5;241m=\u001b[39m compile_state_cls\u001b[38;5;241m.\u001b[39morm_setup_cursor_result(\n\u001b[1;32m   1679\u001b[0m         \u001b[38;5;28mself\u001b[39m,\n\u001b[1;32m   1680\u001b[0m         statement,\n\u001b[0;32m   (...)\u001b[0m\n\u001b[1;32m   1684\u001b[0m         result,\n\u001b[1;32m   1685\u001b[0m     )\n",
      "File \u001b[0;32m~/anaconda3/envs/envphase2/lib/python3.9/site-packages/sqlalchemy/engine/base.py:1521\u001b[0m, in \u001b[0;36mConnection._execute_20\u001b[0;34m(self, statement, parameters, execution_options)\u001b[0m\n\u001b[1;32m   1517\u001b[0m     util\u001b[38;5;241m.\u001b[39mraise_(\n\u001b[1;32m   1518\u001b[0m         exc\u001b[38;5;241m.\u001b[39mObjectNotExecutableError(statement), replace_context\u001b[38;5;241m=\u001b[39merr\n\u001b[1;32m   1519\u001b[0m     )\n\u001b[1;32m   1520\u001b[0m \u001b[38;5;28;01melse\u001b[39;00m:\n\u001b[0;32m-> 1521\u001b[0m     \u001b[38;5;28;01mreturn\u001b[39;00m \u001b[43mmeth\u001b[49m\u001b[43m(\u001b[49m\u001b[38;5;28;43mself\u001b[39;49m\u001b[43m,\u001b[49m\u001b[43m \u001b[49m\u001b[43margs_10style\u001b[49m\u001b[43m,\u001b[49m\u001b[43m \u001b[49m\u001b[43mkwargs_10style\u001b[49m\u001b[43m,\u001b[49m\u001b[43m \u001b[49m\u001b[43mexecution_options\u001b[49m\u001b[43m)\u001b[49m\n",
      "File \u001b[0;32m~/anaconda3/envs/envphase2/lib/python3.9/site-packages/sqlalchemy/sql/elements.py:313\u001b[0m, in \u001b[0;36mClauseElement._execute_on_connection\u001b[0;34m(self, connection, multiparams, params, execution_options, _force)\u001b[0m\n\u001b[1;32m    309\u001b[0m \u001b[38;5;28;01mdef\u001b[39;00m \u001b[38;5;21m_execute_on_connection\u001b[39m(\n\u001b[1;32m    310\u001b[0m     \u001b[38;5;28mself\u001b[39m, connection, multiparams, params, execution_options, _force\u001b[38;5;241m=\u001b[39m\u001b[38;5;28;01mFalse\u001b[39;00m\n\u001b[1;32m    311\u001b[0m ):\n\u001b[1;32m    312\u001b[0m     \u001b[38;5;28;01mif\u001b[39;00m _force \u001b[38;5;129;01mor\u001b[39;00m \u001b[38;5;28mself\u001b[39m\u001b[38;5;241m.\u001b[39msupports_execution:\n\u001b[0;32m--> 313\u001b[0m         \u001b[38;5;28;01mreturn\u001b[39;00m \u001b[43mconnection\u001b[49m\u001b[38;5;241;43m.\u001b[39;49m\u001b[43m_execute_clauseelement\u001b[49m\u001b[43m(\u001b[49m\n\u001b[1;32m    314\u001b[0m \u001b[43m            \u001b[49m\u001b[38;5;28;43mself\u001b[39;49m\u001b[43m,\u001b[49m\u001b[43m \u001b[49m\u001b[43mmultiparams\u001b[49m\u001b[43m,\u001b[49m\u001b[43m \u001b[49m\u001b[43mparams\u001b[49m\u001b[43m,\u001b[49m\u001b[43m \u001b[49m\u001b[43mexecution_options\u001b[49m\n\u001b[1;32m    315\u001b[0m \u001b[43m        \u001b[49m\u001b[43m)\u001b[49m\n\u001b[1;32m    316\u001b[0m     \u001b[38;5;28;01melse\u001b[39;00m:\n\u001b[1;32m    317\u001b[0m         \u001b[38;5;28;01mraise\u001b[39;00m exc\u001b[38;5;241m.\u001b[39mObjectNotExecutableError(\u001b[38;5;28mself\u001b[39m)\n",
      "File \u001b[0;32m~/anaconda3/envs/envphase2/lib/python3.9/site-packages/sqlalchemy/engine/base.py:1390\u001b[0m, in \u001b[0;36mConnection._execute_clauseelement\u001b[0;34m(self, elem, multiparams, params, execution_options)\u001b[0m\n\u001b[1;32m   1378\u001b[0m compiled_cache \u001b[38;5;241m=\u001b[39m execution_options\u001b[38;5;241m.\u001b[39mget(\n\u001b[1;32m   1379\u001b[0m     \u001b[38;5;124m\"\u001b[39m\u001b[38;5;124mcompiled_cache\u001b[39m\u001b[38;5;124m\"\u001b[39m, \u001b[38;5;28mself\u001b[39m\u001b[38;5;241m.\u001b[39mengine\u001b[38;5;241m.\u001b[39m_compiled_cache\n\u001b[1;32m   1380\u001b[0m )\n\u001b[1;32m   1382\u001b[0m compiled_sql, extracted_params, cache_hit \u001b[38;5;241m=\u001b[39m elem\u001b[38;5;241m.\u001b[39m_compile_w_cache(\n\u001b[1;32m   1383\u001b[0m     dialect\u001b[38;5;241m=\u001b[39mdialect,\n\u001b[1;32m   1384\u001b[0m     compiled_cache\u001b[38;5;241m=\u001b[39mcompiled_cache,\n\u001b[0;32m   (...)\u001b[0m\n\u001b[1;32m   1388\u001b[0m     linting\u001b[38;5;241m=\u001b[39m\u001b[38;5;28mself\u001b[39m\u001b[38;5;241m.\u001b[39mdialect\u001b[38;5;241m.\u001b[39mcompiler_linting \u001b[38;5;241m|\u001b[39m compiler\u001b[38;5;241m.\u001b[39mWARN_LINTING,\n\u001b[1;32m   1389\u001b[0m )\n\u001b[0;32m-> 1390\u001b[0m ret \u001b[38;5;241m=\u001b[39m \u001b[38;5;28;43mself\u001b[39;49m\u001b[38;5;241;43m.\u001b[39;49m\u001b[43m_execute_context\u001b[49m\u001b[43m(\u001b[49m\n\u001b[1;32m   1391\u001b[0m \u001b[43m    \u001b[49m\u001b[43mdialect\u001b[49m\u001b[43m,\u001b[49m\n\u001b[1;32m   1392\u001b[0m \u001b[43m    \u001b[49m\u001b[43mdialect\u001b[49m\u001b[38;5;241;43m.\u001b[39;49m\u001b[43mexecution_ctx_cls\u001b[49m\u001b[38;5;241;43m.\u001b[39;49m\u001b[43m_init_compiled\u001b[49m\u001b[43m,\u001b[49m\n\u001b[1;32m   1393\u001b[0m \u001b[43m    \u001b[49m\u001b[43mcompiled_sql\u001b[49m\u001b[43m,\u001b[49m\n\u001b[1;32m   1394\u001b[0m \u001b[43m    \u001b[49m\u001b[43mdistilled_params\u001b[49m\u001b[43m,\u001b[49m\n\u001b[1;32m   1395\u001b[0m \u001b[43m    \u001b[49m\u001b[43mexecution_options\u001b[49m\u001b[43m,\u001b[49m\n\u001b[1;32m   1396\u001b[0m \u001b[43m    \u001b[49m\u001b[43mcompiled_sql\u001b[49m\u001b[43m,\u001b[49m\n\u001b[1;32m   1397\u001b[0m \u001b[43m    \u001b[49m\u001b[43mdistilled_params\u001b[49m\u001b[43m,\u001b[49m\n\u001b[1;32m   1398\u001b[0m \u001b[43m    \u001b[49m\u001b[43melem\u001b[49m\u001b[43m,\u001b[49m\n\u001b[1;32m   1399\u001b[0m \u001b[43m    \u001b[49m\u001b[43mextracted_params\u001b[49m\u001b[43m,\u001b[49m\n\u001b[1;32m   1400\u001b[0m \u001b[43m    \u001b[49m\u001b[43mcache_hit\u001b[49m\u001b[38;5;241;43m=\u001b[39;49m\u001b[43mcache_hit\u001b[49m\u001b[43m,\u001b[49m\n\u001b[1;32m   1401\u001b[0m \u001b[43m\u001b[49m\u001b[43m)\u001b[49m\n\u001b[1;32m   1402\u001b[0m \u001b[38;5;28;01mif\u001b[39;00m has_events:\n\u001b[1;32m   1403\u001b[0m     \u001b[38;5;28mself\u001b[39m\u001b[38;5;241m.\u001b[39mdispatch\u001b[38;5;241m.\u001b[39mafter_execute(\n\u001b[1;32m   1404\u001b[0m         \u001b[38;5;28mself\u001b[39m,\n\u001b[1;32m   1405\u001b[0m         elem,\n\u001b[0;32m   (...)\u001b[0m\n\u001b[1;32m   1409\u001b[0m         ret,\n\u001b[1;32m   1410\u001b[0m     )\n",
      "File \u001b[0;32m~/anaconda3/envs/envphase2/lib/python3.9/site-packages/sqlalchemy/engine/base.py:1749\u001b[0m, in \u001b[0;36mConnection._execute_context\u001b[0;34m(self, dialect, constructor, statement, parameters, execution_options, *args, **kw)\u001b[0m\n\u001b[1;32m   1746\u001b[0m             branched\u001b[38;5;241m.\u001b[39mclose()\n\u001b[1;32m   1748\u001b[0m \u001b[38;5;28;01mexcept\u001b[39;00m \u001b[38;5;167;01mBaseException\u001b[39;00m \u001b[38;5;28;01mas\u001b[39;00m e:\n\u001b[0;32m-> 1749\u001b[0m     \u001b[38;5;28;43mself\u001b[39;49m\u001b[38;5;241;43m.\u001b[39;49m\u001b[43m_handle_dbapi_exception\u001b[49m\u001b[43m(\u001b[49m\n\u001b[1;32m   1750\u001b[0m \u001b[43m        \u001b[49m\u001b[43me\u001b[49m\u001b[43m,\u001b[49m\u001b[43m \u001b[49m\u001b[43mstatement\u001b[49m\u001b[43m,\u001b[49m\u001b[43m \u001b[49m\u001b[43mparameters\u001b[49m\u001b[43m,\u001b[49m\u001b[43m \u001b[49m\u001b[43mcursor\u001b[49m\u001b[43m,\u001b[49m\u001b[43m \u001b[49m\u001b[43mcontext\u001b[49m\n\u001b[1;32m   1751\u001b[0m \u001b[43m    \u001b[49m\u001b[43m)\u001b[49m\n\u001b[1;32m   1753\u001b[0m \u001b[38;5;28;01mreturn\u001b[39;00m result\n",
      "File \u001b[0;32m~/anaconda3/envs/envphase2/lib/python3.9/site-packages/sqlalchemy/engine/base.py:1934\u001b[0m, in \u001b[0;36mConnection._handle_dbapi_exception\u001b[0;34m(self, e, statement, parameters, cursor, context)\u001b[0m\n\u001b[1;32m   1930\u001b[0m         util\u001b[38;5;241m.\u001b[39mraise_(\n\u001b[1;32m   1931\u001b[0m             sqlalchemy_exception, with_traceback\u001b[38;5;241m=\u001b[39mexc_info[\u001b[38;5;241m2\u001b[39m], from_\u001b[38;5;241m=\u001b[39me\n\u001b[1;32m   1932\u001b[0m         )\n\u001b[1;32m   1933\u001b[0m     \u001b[38;5;28;01melse\u001b[39;00m:\n\u001b[0;32m-> 1934\u001b[0m         \u001b[43mutil\u001b[49m\u001b[38;5;241;43m.\u001b[39;49m\u001b[43mraise_\u001b[49m\u001b[43m(\u001b[49m\u001b[43mexc_info\u001b[49m\u001b[43m[\u001b[49m\u001b[38;5;241;43m1\u001b[39;49m\u001b[43m]\u001b[49m\u001b[43m,\u001b[49m\u001b[43m \u001b[49m\u001b[43mwith_traceback\u001b[49m\u001b[38;5;241;43m=\u001b[39;49m\u001b[43mexc_info\u001b[49m\u001b[43m[\u001b[49m\u001b[38;5;241;43m2\u001b[39;49m\u001b[43m]\u001b[49m\u001b[43m)\u001b[49m\n\u001b[1;32m   1936\u001b[0m \u001b[38;5;28;01mfinally\u001b[39;00m:\n\u001b[1;32m   1937\u001b[0m     \u001b[38;5;28;01mdel\u001b[39;00m \u001b[38;5;28mself\u001b[39m\u001b[38;5;241m.\u001b[39m_reentrant_error\n",
      "File \u001b[0;32m~/anaconda3/envs/envphase2/lib/python3.9/site-packages/sqlalchemy/util/compat.py:211\u001b[0m, in \u001b[0;36mraise_\u001b[0;34m(***failed resolving arguments***)\u001b[0m\n\u001b[1;32m    208\u001b[0m     exception\u001b[38;5;241m.\u001b[39m__cause__ \u001b[38;5;241m=\u001b[39m replace_context\n\u001b[1;32m    210\u001b[0m \u001b[38;5;28;01mtry\u001b[39;00m:\n\u001b[0;32m--> 211\u001b[0m     \u001b[38;5;28;01mraise\u001b[39;00m exception\n\u001b[1;32m    212\u001b[0m \u001b[38;5;28;01mfinally\u001b[39;00m:\n\u001b[1;32m    213\u001b[0m     \u001b[38;5;66;03m# credit to\u001b[39;00m\n\u001b[1;32m    214\u001b[0m     \u001b[38;5;66;03m# https://cosmicpercolator.com/2016/01/13/exception-leaks-in-python-2-and-3/\u001b[39;00m\n\u001b[1;32m    215\u001b[0m     \u001b[38;5;66;03m# as the __traceback__ object creates a cycle\u001b[39;00m\n\u001b[1;32m    216\u001b[0m     \u001b[38;5;28;01mdel\u001b[39;00m exception, replace_context, from_, with_traceback\n",
      "File \u001b[0;32m~/anaconda3/envs/envphase2/lib/python3.9/site-packages/sqlalchemy/engine/base.py:1706\u001b[0m, in \u001b[0;36mConnection._execute_context\u001b[0;34m(self, dialect, constructor, statement, parameters, execution_options, *args, **kw)\u001b[0m\n\u001b[1;32m   1704\u001b[0m                 \u001b[38;5;28;01mbreak\u001b[39;00m\n\u001b[1;32m   1705\u001b[0m     \u001b[38;5;28;01mif\u001b[39;00m \u001b[38;5;129;01mnot\u001b[39;00m evt_handled:\n\u001b[0;32m-> 1706\u001b[0m         \u001b[38;5;28;43mself\u001b[39;49m\u001b[38;5;241;43m.\u001b[39;49m\u001b[43mdialect\u001b[49m\u001b[38;5;241;43m.\u001b[39;49m\u001b[43mdo_execute\u001b[49m\u001b[43m(\u001b[49m\n\u001b[1;32m   1707\u001b[0m \u001b[43m            \u001b[49m\u001b[43mcursor\u001b[49m\u001b[43m,\u001b[49m\u001b[43m \u001b[49m\u001b[43mstatement\u001b[49m\u001b[43m,\u001b[49m\u001b[43m \u001b[49m\u001b[43mparameters\u001b[49m\u001b[43m,\u001b[49m\u001b[43m \u001b[49m\u001b[43mcontext\u001b[49m\n\u001b[1;32m   1708\u001b[0m \u001b[43m        \u001b[49m\u001b[43m)\u001b[49m\n\u001b[1;32m   1710\u001b[0m \u001b[38;5;28;01mif\u001b[39;00m \u001b[38;5;28mself\u001b[39m\u001b[38;5;241m.\u001b[39m_has_events \u001b[38;5;129;01mor\u001b[39;00m \u001b[38;5;28mself\u001b[39m\u001b[38;5;241m.\u001b[39mengine\u001b[38;5;241m.\u001b[39m_has_events:\n\u001b[1;32m   1711\u001b[0m     \u001b[38;5;28mself\u001b[39m\u001b[38;5;241m.\u001b[39mdispatch\u001b[38;5;241m.\u001b[39mafter_cursor_execute(\n\u001b[1;32m   1712\u001b[0m         \u001b[38;5;28mself\u001b[39m,\n\u001b[1;32m   1713\u001b[0m         cursor,\n\u001b[0;32m   (...)\u001b[0m\n\u001b[1;32m   1717\u001b[0m         context\u001b[38;5;241m.\u001b[39mexecutemany,\n\u001b[1;32m   1718\u001b[0m     )\n",
      "File \u001b[0;32m~/anaconda3/envs/envphase2/lib/python3.9/site-packages/sqlalchemy/engine/default.py:717\u001b[0m, in \u001b[0;36mDefaultDialect.do_execute\u001b[0;34m(self, cursor, statement, parameters, context)\u001b[0m\n\u001b[1;32m    716\u001b[0m \u001b[38;5;28;01mdef\u001b[39;00m \u001b[38;5;21mdo_execute\u001b[39m(\u001b[38;5;28mself\u001b[39m, cursor, statement, parameters, context\u001b[38;5;241m=\u001b[39m\u001b[38;5;28;01mNone\u001b[39;00m):\n\u001b[0;32m--> 717\u001b[0m     \u001b[43mcursor\u001b[49m\u001b[38;5;241;43m.\u001b[39;49m\u001b[43mexecute\u001b[49m\u001b[43m(\u001b[49m\u001b[43mstatement\u001b[49m\u001b[43m,\u001b[49m\u001b[43m \u001b[49m\u001b[43mparameters\u001b[49m\u001b[43m)\u001b[49m\n",
      "File \u001b[0;32m~/anaconda3/envs/envphase2/lib/python3.9/encodings/utf_8.py:15\u001b[0m, in \u001b[0;36mdecode\u001b[0;34m(input, errors)\u001b[0m\n\u001b[1;32m     11\u001b[0m \u001b[38;5;66;03m### Codec APIs\u001b[39;00m\n\u001b[1;32m     13\u001b[0m encode \u001b[38;5;241m=\u001b[39m codecs\u001b[38;5;241m.\u001b[39mutf_8_encode\n\u001b[0;32m---> 15\u001b[0m \u001b[38;5;28;01mdef\u001b[39;00m \u001b[38;5;21mdecode\u001b[39m(\u001b[38;5;28minput\u001b[39m, errors\u001b[38;5;241m=\u001b[39m\u001b[38;5;124m'\u001b[39m\u001b[38;5;124mstrict\u001b[39m\u001b[38;5;124m'\u001b[39m):\n\u001b[1;32m     16\u001b[0m     \u001b[38;5;28;01mreturn\u001b[39;00m codecs\u001b[38;5;241m.\u001b[39mutf_8_decode(\u001b[38;5;28minput\u001b[39m, errors, \u001b[38;5;28;01mTrue\u001b[39;00m)\n\u001b[1;32m     18\u001b[0m \u001b[38;5;28;01mclass\u001b[39;00m \u001b[38;5;21;01mIncrementalEncoder\u001b[39;00m(codecs\u001b[38;5;241m.\u001b[39mIncrementalEncoder):\n",
      "\u001b[0;31mKeyboardInterrupt\u001b[0m: "
     ]
    }
   ],
   "source": [
    "while current_index<event_count:\n",
    "    query = skeleton_query.format(current_index, current_index+chunk_size)\n",
    "    result_set = session.execute(query)\n",
    "    current_index += chunk_size\n",
    "    #print('starting checkpoint')\n",
    "    for result in result_set:\n",
    "        a_id = result.actorID\n",
    "        actor = actor_id_map[a_id]\n",
    "        \n",
    "        if actor != result.id:\n",
    "            if actor != 0:\n",
    "                actor_object = id_map[actor]\n",
    "                object_idx = object_dict[result.object]/type_object\n",
    "                action_idx = action_dict[result.action]/type_action\n",
    "                time_diff = (result.timestamp-actor_object.timestamp).total_seconds()/time_diff_span.total_seconds()\n",
    "            else:\n",
    "                object_idx = object_dict[result.object]/type_object\n",
    "                action_idx = action_dict[result.action]/type_action\n",
    "                time_diff = 0.5\n",
    "            \n",
    "            graph[actor].append([result.id, object_idx, action_idx, time_diff])\n",
    "            #graph[actor].append(result.id)\n",
    "            #back_graph[result.id] = actor\n",
    "        else:\n",
    "            print(result)\n",
    "    if current_index%1000000 == 0:\n",
    "        print(\"Checkpoint reached:  {}\".format(current_index))"
   ]
  },
  {
   "cell_type": "code",
   "execution_count": 68,
   "id": "5b4e3194",
   "metadata": {},
   "outputs": [
    {
     "data": {
      "text/plain": [
       "88264"
      ]
     },
     "execution_count": 68,
     "metadata": {},
     "output_type": "execute_result"
    }
   ],
   "source": [
    "len(graph)"
   ]
  },
  {
   "cell_type": "code",
   "execution_count": 69,
   "id": "7af9422f",
   "metadata": {},
   "outputs": [],
   "source": [
    "graph_keys_set = set(list(graph.keys()))"
   ]
  },
  {
   "cell_type": "code",
   "execution_count": 70,
   "id": "c1df1788",
   "metadata": {},
   "outputs": [],
   "source": [
    "dirty_graph_path = '/mnt/8tb/csenrc/data/ecar/benign/dirty_graph.json'"
   ]
  },
  {
   "cell_type": "code",
   "execution_count": 71,
   "id": "ab1c9748",
   "metadata": {},
   "outputs": [],
   "source": [
    "import json\n",
    "from operator import itemgetter"
   ]
  },
  {
   "cell_type": "code",
   "execution_count": 76,
   "id": "9d47fc2b",
   "metadata": {},
   "outputs": [
    {
     "name": "stdout",
     "output_type": "stream",
     "text": [
      "8929953\n",
      "[[3, 0.5, 0.1, 0.5], [15, 0.25, 0.3, 0.5], [16, 0.25, 0.6, 0.5], [17, 0.25, 0.6, 0.5], [23, 0.25, 0.3, 0.5], [25, 0.25, 0.6, 0.5], [28, 0.25, 0.6, 0.5], [29, 0.25, 0.6, 0.5], [211, 0.25, 0.1, 0.5], [212, 0.25, 0.5, 0.5]]\n"
     ]
    }
   ],
   "source": [
    "with open(dirty_graph_path, 'w', encoding='utf8') as dirty_graph_file:\n",
    "    json.dump(graph,dirty_graph_file)\n",
    "\n",
    "dirty_graph_file.close()"
   ]
  },
  {
   "cell_type": "markdown",
   "id": "78ac1141",
   "metadata": {},
   "source": [
    "### Now let's see how the dumped dirty graph data can be loaded"
   ]
  },
  {
   "cell_type": "code",
   "execution_count": 77,
   "id": "85b06942",
   "metadata": {},
   "outputs": [],
   "source": [
    "with open(dirty_graph_path, 'r', encoding='utf8') as dirty_graph_file:\n",
    "    dirty_graph = json.load(dirty_graph_file)"
   ]
  },
  {
   "cell_type": "code",
   "execution_count": 78,
   "id": "d8492ac4",
   "metadata": {},
   "outputs": [
    {
     "data": {
      "text/plain": [
       "88264"
      ]
     },
     "execution_count": 78,
     "metadata": {},
     "output_type": "execute_result"
    }
   ],
   "source": [
    "len(dirty_graph) "
   ]
  },
  {
   "cell_type": "code",
   "execution_count": 79,
   "id": "bac6bbb1",
   "metadata": {},
   "outputs": [
    {
     "name": "stdout",
     "output_type": "stream",
     "text": [
      "10762320\n",
      "17844953\n",
      "0.9861972014662552\n"
     ]
    }
   ],
   "source": [
    "max_parent = 0 \n",
    "max_child = 0\n",
    "max_diff = 0\n",
    "avg_diff =0 \n",
    "sum_diff = 0\n",
    "count = 0\n",
    "\n",
    "for key in dirty_graph:\n",
    "    if int(key) != 0:\n",
    "        children = dirty_graph[key]\n",
    "        for child in children:\n",
    "            if child[3] >max_diff:\n",
    "                max_diff = child[3]\n",
    "                max_parent = int(key)\n",
    "                max_child = child[0]\n",
    "            sum_diff += child[3]\n",
    "            count+=1\n",
    "\n",
    "print(max_parent)\n",
    "print(max_child)\n",
    "print(max_diff)"
   ]
  },
  {
   "cell_type": "code",
   "execution_count": 129,
   "id": "ad0f3233",
   "metadata": {},
   "outputs": [],
   "source": [
    "dirty_sorted_graph_path = '/mnt/8tb/csenrc/data/ecar/benign/dirty_sorted_graph051.json'"
   ]
  },
  {
   "cell_type": "code",
   "execution_count": 130,
   "id": "9e045804",
   "metadata": {},
   "outputs": [],
   "source": [
    "dirty_sorted_graph = dict()\n",
    "for key in dirty_graph:\n",
    "    children = sorted(dirty_graph[key], key=itemgetter(3)) \n",
    "    dirty_sorted_graph[key] = children"
   ]
  },
  {
   "cell_type": "code",
   "execution_count": 131,
   "id": "0325f379",
   "metadata": {},
   "outputs": [],
   "source": [
    "with open(dirty_sorted_graph_path,'w') as dirty_sorted_graph_file:\n",
    "    json.dump(dirty_sorted_graph, dirty_sorted_graph_file)\n",
    "\n",
    "dirty_sorted_graph_file.close()"
   ]
  },
  {
   "cell_type": "code",
   "execution_count": null,
   "id": "aaea1cff",
   "metadata": {},
   "outputs": [],
   "source": [
    "dirty_graph_keys_set = set(list(dirty_graph.keys()))"
   ]
  },
  {
   "cell_type": "markdown",
   "id": "6cf51df2",
   "metadata": {},
   "source": [
    "### We will take the dirty graph and get rid of all the bad entries for a clean graph"
   ]
  },
  {
   "cell_type": "code",
   "execution_count": 23,
   "id": "e3c3c02b",
   "metadata": {},
   "outputs": [
    {
     "name": "stdout",
     "output_type": "stream",
     "text": [
      "19227014\n"
     ]
    }
   ],
   "source": [
    "number_of_nodes_in_d_graph = 0\n",
    "for key in dirty_graph:\n",
    "    number_of_nodes_in_d_graph += len(dirty_graph[key])\n",
    "    \n",
    "print(number_of_nodes_in_d_graph)"
   ]
  },
  {
   "cell_type": "markdown",
   "id": "0a929310",
   "metadata": {},
   "source": [
    "### Isolate the malicious events"
   ]
  },
  {
   "cell_type": "code",
   "execution_count": 15,
   "id": "9b41b215",
   "metadata": {},
   "outputs": [],
   "source": [
    "label_file = '/mnt/8tb/csenrc/data/ecar/benign/labels.csv'\n",
    "label_df = pd.read_csv(label_file)"
   ]
  },
  {
   "cell_type": "code",
   "execution_count": 16,
   "id": "2115ae6a",
   "metadata": {},
   "outputs": [
    {
     "data": {
      "text/html": [
       "<div>\n",
       "<style scoped>\n",
       "    .dataframe tbody tr th:only-of-type {\n",
       "        vertical-align: middle;\n",
       "    }\n",
       "\n",
       "    .dataframe tbody tr th {\n",
       "        vertical-align: top;\n",
       "    }\n",
       "\n",
       "    .dataframe thead th {\n",
       "        text-align: right;\n",
       "    }\n",
       "</style>\n",
       "<table border=\"1\" class=\"dataframe\">\n",
       "  <thead>\n",
       "    <tr style=\"text-align: right;\">\n",
       "      <th></th>\n",
       "      <th>hostname</th>\n",
       "      <th>id</th>\n",
       "      <th>objectID</th>\n",
       "      <th>actorID</th>\n",
       "      <th>timestamp</th>\n",
       "      <th>object</th>\n",
       "      <th>action</th>\n",
       "    </tr>\n",
       "  </thead>\n",
       "  <tbody>\n",
       "    <tr>\n",
       "      <th>0</th>\n",
       "      <td>SysClient0201.systemia.com</td>\n",
       "      <td>43fb9623-3cd1-45ec-ab22-dbe46e75240e</td>\n",
       "      <td>96913629-c1c9-4503-9586-4a91de0e7311</td>\n",
       "      <td>af6b49d5-f648-41a4-946d-d92b174bae47</td>\n",
       "      <td>2019-09-23T11:23:55.857-04:00</td>\n",
       "      <td>PROCESS</td>\n",
       "      <td>CREATE</td>\n",
       "    </tr>\n",
       "    <tr>\n",
       "      <th>1</th>\n",
       "      <td>SysClient0201.systemia.com</td>\n",
       "      <td>78fccbc8-58d1-4598-ae21-99f57ee57ed8</td>\n",
       "      <td>b53c1986-842c-493a-910c-78b55da2575f</td>\n",
       "      <td>96913629-c1c9-4503-9586-4a91de0e7311</td>\n",
       "      <td>2019-09-23T11:25:26.418-04:00</td>\n",
       "      <td>SHELL</td>\n",
       "      <td>COMMAND</td>\n",
       "    </tr>\n",
       "    <tr>\n",
       "      <th>2</th>\n",
       "      <td>SysClient0201.systemia.com</td>\n",
       "      <td>fb89e8be-47a1-418c-9bb8-a4c702694c74</td>\n",
       "      <td>b53c1986-842c-493a-910c-78b55da2575f</td>\n",
       "      <td>96913629-c1c9-4503-9586-4a91de0e7311</td>\n",
       "      <td>2019-09-23T11:25:26.416-04:00</td>\n",
       "      <td>SHELL</td>\n",
       "      <td>COMMAND</td>\n",
       "    </tr>\n",
       "    <tr>\n",
       "      <th>3</th>\n",
       "      <td>SysClient0201.systemia.com</td>\n",
       "      <td>05e5bde3-8db5-410a-ad75-de676bd14ebb</td>\n",
       "      <td>b53c1986-842c-493a-910c-78b55da2575f</td>\n",
       "      <td>96913629-c1c9-4503-9586-4a91de0e7311</td>\n",
       "      <td>2019-09-23T11:25:26.436-04:00</td>\n",
       "      <td>SHELL</td>\n",
       "      <td>COMMAND</td>\n",
       "    </tr>\n",
       "    <tr>\n",
       "      <th>4</th>\n",
       "      <td>SysClient0201.systemia.com</td>\n",
       "      <td>1bdb7482-a548-40f2-b648-ea258e6c2448</td>\n",
       "      <td>b53c1986-842c-493a-910c-78b55da2575f</td>\n",
       "      <td>96913629-c1c9-4503-9586-4a91de0e7311</td>\n",
       "      <td>2019-09-23T11:25:26.434-04:00</td>\n",
       "      <td>SHELL</td>\n",
       "      <td>COMMAND</td>\n",
       "    </tr>\n",
       "  </tbody>\n",
       "</table>\n",
       "</div>"
      ],
      "text/plain": [
       "                     hostname                                    id  \\\n",
       "0  SysClient0201.systemia.com  43fb9623-3cd1-45ec-ab22-dbe46e75240e   \n",
       "1  SysClient0201.systemia.com  78fccbc8-58d1-4598-ae21-99f57ee57ed8   \n",
       "2  SysClient0201.systemia.com  fb89e8be-47a1-418c-9bb8-a4c702694c74   \n",
       "3  SysClient0201.systemia.com  05e5bde3-8db5-410a-ad75-de676bd14ebb   \n",
       "4  SysClient0201.systemia.com  1bdb7482-a548-40f2-b648-ea258e6c2448   \n",
       "\n",
       "                               objectID                               actorID  \\\n",
       "0  96913629-c1c9-4503-9586-4a91de0e7311  af6b49d5-f648-41a4-946d-d92b174bae47   \n",
       "1  b53c1986-842c-493a-910c-78b55da2575f  96913629-c1c9-4503-9586-4a91de0e7311   \n",
       "2  b53c1986-842c-493a-910c-78b55da2575f  96913629-c1c9-4503-9586-4a91de0e7311   \n",
       "3  b53c1986-842c-493a-910c-78b55da2575f  96913629-c1c9-4503-9586-4a91de0e7311   \n",
       "4  b53c1986-842c-493a-910c-78b55da2575f  96913629-c1c9-4503-9586-4a91de0e7311   \n",
       "\n",
       "                       timestamp   object   action  \n",
       "0  2019-09-23T11:23:55.857-04:00  PROCESS   CREATE  \n",
       "1  2019-09-23T11:25:26.418-04:00    SHELL  COMMAND  \n",
       "2  2019-09-23T11:25:26.416-04:00    SHELL  COMMAND  \n",
       "3  2019-09-23T11:25:26.436-04:00    SHELL  COMMAND  \n",
       "4  2019-09-23T11:25:26.434-04:00    SHELL  COMMAND  "
      ]
     },
     "execution_count": 16,
     "metadata": {},
     "output_type": "execute_result"
    }
   ],
   "source": [
    "label_df.head()"
   ]
  },
  {
   "cell_type": "code",
   "execution_count": 17,
   "id": "fb191b87",
   "metadata": {},
   "outputs": [],
   "source": [
    "sysclient201_labels = label_df[label_df['hostname']=='SysClient0201.systemia.com']"
   ]
  },
  {
   "cell_type": "code",
   "execution_count": 18,
   "id": "b9117bf5",
   "metadata": {},
   "outputs": [
    {
     "data": {
      "text/plain": [
       "26681"
      ]
     },
     "execution_count": 18,
     "metadata": {},
     "output_type": "execute_result"
    }
   ],
   "source": [
    "len(sysclient201_labels)"
   ]
  },
  {
   "cell_type": "code",
   "execution_count": 19,
   "id": "5671e0a3",
   "metadata": {},
   "outputs": [
    {
     "data": {
      "text/plain": [
       "array(['af6b49d5-f648-41a4-946d-d92b174bae47',\n",
       "       '96913629-c1c9-4503-9586-4a91de0e7311',\n",
       "       'f5d1c003-1f65-4a8a-ba8c-413da99d70f2',\n",
       "       'a52f6519-6265-4437-9f6c-3402fb245cc7'], dtype=object)"
      ]
     },
     "execution_count": 19,
     "metadata": {},
     "output_type": "execute_result"
    }
   ],
   "source": [
    "sysclient201_labels['actorID'].unique()"
   ]
  },
  {
   "cell_type": "code",
   "execution_count": 20,
   "id": "2864719e",
   "metadata": {},
   "outputs": [],
   "source": [
    "malicious_events = dict()"
   ]
  },
  {
   "cell_type": "code",
   "execution_count": 21,
   "id": "4f4fb7a6",
   "metadata": {},
   "outputs": [
    {
     "name": "stdout",
     "output_type": "stream",
     "text": [
      "select * from \"SysClient0201Events\" where \"actorID\"='0' and \"event_id\"='0';\n"
     ]
    }
   ],
   "source": [
    "query_event_id_actor_id = \"select * from \\\"SysClient0201Events\\\" where \\\"actorID\\\"=\\'{}\\' and \\\"event_id\\\"=\\'{}\\';\"\n",
    "print(query_event_id_actor_id.format(0,0))"
   ]
  },
  {
   "cell_type": "code",
   "execution_count": 22,
   "id": "e1c97def",
   "metadata": {},
   "outputs": [],
   "source": [
    "for idx,row in sysclient201_labels.iterrows():\n",
    "    if row['object'] in ['PROCESS','FILE','SHELL']:\n",
    "        result_set = session.execute(query_event_id_actor_id.format(row['actorID'],row['id']))\n",
    "        for result in result_set:\n",
    "            malicious_events[result.id] = result\n",
    "    elif row['object'] == 'FLOW' and row['action']=='MESSAGE':\n",
    "        result_set = session.execute(query_event_id_actor_id.format(row['actorID'],row['id']))\n",
    "        for result in result_set:\n",
    "            malicious_events[result.id] = result"
   ]
  },
  {
   "cell_type": "code",
   "execution_count": 23,
   "id": "784cc9d5",
   "metadata": {},
   "outputs": [
    {
     "data": {
      "text/plain": [
       "22919"
      ]
     },
     "execution_count": 23,
     "metadata": {},
     "output_type": "execute_result"
    }
   ],
   "source": [
    "len(malicious_events)"
   ]
  },
  {
   "cell_type": "code",
   "execution_count": 24,
   "id": "c3b4adc9",
   "metadata": {},
   "outputs": [],
   "source": [
    "nodes_present_in_graph = set()\n",
    "for key in dirty_graph:\n",
    "    nodes_present_in_graph.add(int(key))\n",
    "    for child in dirty_graph[key]:\n",
    "        nodes_present_in_graph.add(child[0])"
   ]
  },
  {
   "cell_type": "code",
   "execution_count": 25,
   "id": "5c14c9eb",
   "metadata": {},
   "outputs": [
    {
     "data": {
      "text/plain": [
       "19230659"
      ]
     },
     "execution_count": 25,
     "metadata": {},
     "output_type": "execute_result"
    }
   ],
   "source": [
    "len(nodes_present_in_graph)"
   ]
  },
  {
   "cell_type": "code",
   "execution_count": 26,
   "id": "2e5ad327",
   "metadata": {},
   "outputs": [
    {
     "name": "stdout",
     "output_type": "stream",
     "text": [
      "22919\n"
     ]
    }
   ],
   "source": [
    "malicious_event_count_in_graph = 0 \n",
    "malicious_events_in_graph = dict()\n",
    "\n",
    "for key in malicious_events:\n",
    "    if key in nodes_present_in_graph:\n",
    "        malicious_event_count_in_graph += 1\n",
    "        malicious_events_in_graph[key] = malicious_events[key]\n",
    "        \n",
    "print(malicious_event_count_in_graph)"
   ]
  },
  {
   "cell_type": "code",
   "execution_count": 27,
   "id": "ab585275",
   "metadata": {},
   "outputs": [],
   "source": [
    "back_graph = dict() "
   ]
  },
  {
   "cell_type": "code",
   "execution_count": 28,
   "id": "8478f40e",
   "metadata": {},
   "outputs": [],
   "source": [
    "for key in dirty_graph:\n",
    "    children = dirty_graph[key]\n",
    "    for child in children:\n",
    "        back_graph[child[0]] = int(key)"
   ]
  },
  {
   "cell_type": "code",
   "execution_count": 37,
   "id": "4d671501",
   "metadata": {},
   "outputs": [
    {
     "data": {
      "text/plain": [
       "19227014"
      ]
     },
     "execution_count": 37,
     "metadata": {},
     "output_type": "execute_result"
    }
   ],
   "source": [
    "len(back_graph)"
   ]
  },
  {
   "cell_type": "code",
   "execution_count": 29,
   "id": "65c442f1",
   "metadata": {},
   "outputs": [],
   "source": [
    "malicious_event_traces = []"
   ]
  },
  {
   "cell_type": "code",
   "execution_count": 30,
   "id": "dbc265d3",
   "metadata": {},
   "outputs": [],
   "source": [
    "def get_trace(start_node):\n",
    "    trace = []\n",
    "    temp_node = start_node\n",
    "    trace.append(temp_node)\n",
    "    while True:\n",
    "        if temp_node in back_graph:\n",
    "            temp_node = back_graph[temp_node]\n",
    "            trace.append(temp_node)\n",
    "        else:\n",
    "            break \n",
    "            \n",
    "    return trace"
   ]
  },
  {
   "cell_type": "code",
   "execution_count": 31,
   "id": "aa9b461a",
   "metadata": {},
   "outputs": [],
   "source": [
    "for key in malicious_events_in_graph:\n",
    "    malicious_event_traces.append(get_trace(key))"
   ]
  },
  {
   "cell_type": "code",
   "execution_count": 32,
   "id": "94fc1566",
   "metadata": {},
   "outputs": [
    {
     "name": "stdout",
     "output_type": "stream",
     "text": [
      "19.077926611108687\n",
      "22\n"
     ]
    }
   ],
   "source": [
    "num = len(malicious_event_traces)\n",
    "total = 0\n",
    "max_len = -1\n",
    "for trace in malicious_event_traces:\n",
    "    total+= len(trace)\n",
    "    if len(trace)>max_len:\n",
    "        max_len = len(trace)\n",
    "print(total/num)\n",
    "print(max_len)"
   ]
  },
  {
   "cell_type": "code",
   "execution_count": 33,
   "id": "e26473af",
   "metadata": {},
   "outputs": [],
   "source": [
    "benign_event_traces = []"
   ]
  },
  {
   "cell_type": "code",
   "execution_count": 34,
   "id": "74c8b6fc",
   "metadata": {},
   "outputs": [],
   "source": [
    "access_graph = dict()"
   ]
  },
  {
   "cell_type": "code",
   "execution_count": 35,
   "id": "e016dbf7",
   "metadata": {},
   "outputs": [],
   "source": [
    "for key in dirty_graph:\n",
    "    temp_dict = dict()\n",
    "    children = dirty_graph[key]\n",
    "    for child in children:\n",
    "        temp_dict[child[0]] = [child[1],child[2],child[3]]\n",
    "    access_graph[int(key)] = temp_dict"
   ]
  },
  {
   "cell_type": "code",
   "execution_count": 45,
   "id": "c0262eb0",
   "metadata": {},
   "outputs": [],
   "source": [
    "access_graph_path = '/mnt/8tb/csenrc/data/ecar/benign/access_graph.json'"
   ]
  },
  {
   "cell_type": "code",
   "execution_count": null,
   "id": "871e4c4a",
   "metadata": {},
   "outputs": [],
   "source": [
    "with open(access_graph_path,'w') as access_file:\n",
    "    json.dump(access_graph,access_file)\n",
    "access_file.close()"
   ]
  },
  {
   "cell_type": "code",
   "execution_count": 36,
   "id": "64363af3",
   "metadata": {},
   "outputs": [],
   "source": [
    "count_benign_trace = 0\n",
    "start_idx = 7000000\n",
    "while count_benign_trace<500000:\n",
    "    #get a random index\n",
    "    rand_index = np.random.randint(start_idx, high = event_count)\n",
    "    if rand_index not in malicious_events_in_graph:\n",
    "        if rand_index in back_graph:\n",
    "            derived_trace = get_trace(rand_index)\n",
    "            if derived_trace[-1] == 0:\n",
    "                benign_event_traces.append(derived_trace)\n",
    "                count_benign_trace+=1"
   ]
  },
  {
   "cell_type": "code",
   "execution_count": 46,
   "id": "047b4336",
   "metadata": {},
   "outputs": [
    {
     "data": {
      "text/plain": [
       "500000"
      ]
     },
     "execution_count": 46,
     "metadata": {},
     "output_type": "execute_result"
    }
   ],
   "source": [
    "len(benign_event_traces)"
   ]
  },
  {
   "cell_type": "code",
   "execution_count": 37,
   "id": "5a884006",
   "metadata": {},
   "outputs": [
    {
     "name": "stdout",
     "output_type": "stream",
     "text": [
      "14.50696\n",
      "35\n"
     ]
    }
   ],
   "source": [
    "benign_len = 0\n",
    "benign_max_len = -1\n",
    "for trace in benign_event_traces:\n",
    "    benign_len += len(trace)\n",
    "    if len(trace)>benign_max_len:\n",
    "        benign_max_len = len(trace)\n",
    "        \n",
    "print(benign_len/len(benign_event_traces))\n",
    "print(benign_max_len)"
   ]
  },
  {
   "cell_type": "markdown",
   "id": "3e29a2e4",
   "metadata": {},
   "source": [
    "1. Split the train and test data\n",
    "2. Define a generator function \n",
    "3. Define a baseline model that LSTM for feature extraction and FCN for classification\n",
    "4. Baseline performance listing"
   ]
  },
  {
   "cell_type": "code",
   "execution_count": 38,
   "id": "58682e38",
   "metadata": {},
   "outputs": [],
   "source": [
    "train_x_benign = benign_event_traces[:400000]\n",
    "test_x_benign = benign_event_traces[400000:]\n",
    "\n",
    "train_x_malicious = malicious_event_traces[:16000]\n",
    "test_x_malicious = malicious_event_traces[16000:]"
   ]
  },
  {
   "cell_type": "code",
   "execution_count": 39,
   "id": "2a19fc4d",
   "metadata": {},
   "outputs": [],
   "source": [
    "def transform_trace(trace, cutoff=8):\n",
    "    \n",
    "    numeric_trace = np.zeros((cutoff,3)) # Length of the trace and 3 features namely (object,action,timedelta)\n",
    "    for k in range(len(trace)):\n",
    "        if trace[k] in back_graph:\n",
    "            parent = back_graph[trace[k]]\n",
    "            feature_list = access_graph[parent][trace[k]]\n",
    "            numeric_trace[k][0] = feature_list[0]\n",
    "            numeric_trace[k][1] = feature_list[1]\n",
    "            numeric_trace[k][2] = feature_list[2]\n",
    "\n",
    "        if k==cutoff-1:\n",
    "            break\n",
    "    \n",
    "    return numeric_trace"
   ]
  },
  {
   "cell_type": "code",
   "execution_count": 58,
   "id": "fee80077",
   "metadata": {},
   "outputs": [
    {
     "data": {
      "text/plain": [
       "array([[7.50000000e-01, 1.00000000e+00, 9.28080822e-03],\n",
       "       [5.00000000e-01, 1.00000000e-01, 5.81739656e-06],\n",
       "       [5.00000000e-01, 1.00000000e-01, 3.16530864e-01],\n",
       "       [5.00000000e-01, 1.00000000e-01, 6.58374441e-09],\n",
       "       [5.00000000e-01, 1.00000000e-01, 1.31674888e-09],\n",
       "       [5.00000000e-01, 1.00000000e-01, 4.21148962e-04],\n",
       "       [5.00000000e-01, 8.00000000e-01, 1.50129782e-03],\n",
       "       [5.00000000e-01, 8.00000000e-01, 1.13700726e-01],\n",
       "       [5.00000000e-01, 1.00000000e-01, 4.50192492e-04],\n",
       "       [5.00000000e-01, 1.00000000e-01, 2.76517265e-08],\n",
       "       [5.00000000e-01, 1.00000000e-01, 5.74039308e-03],\n",
       "       [5.00000000e-01, 1.00000000e-01, 3.88440920e-07],\n",
       "       [5.00000000e-01, 1.00000000e-01, 3.58129361e-05],\n",
       "       [5.00000000e-01, 1.00000000e-01, 8.90483375e-02],\n",
       "       [5.00000000e-01, 1.00000000e-01, 5.26699552e-09],\n",
       "       [5.00000000e-01, 1.00000000e-01, 5.00364575e-08]])"
      ]
     },
     "execution_count": 58,
     "metadata": {},
     "output_type": "execute_result"
    }
   ],
   "source": [
    "transform_trace(malicious_event_traces[15000],cutoff=16)"
   ]
  },
  {
   "cell_type": "code",
   "execution_count": 100,
   "id": "7b1c49bb",
   "metadata": {},
   "outputs": [],
   "source": [
    "def train_generator(batch_size = 32):\n",
    "    while True:\n",
    "        labels= np.random.randint(2,size=batch_size)\n",
    "        num_malicious = np.sum(labels)\n",
    "        num_benign = batch_size - num_malicious\n",
    "        \n",
    "        benign_data_indices = np.random.randint(0,high=400000, size = num_benign)\n",
    "        malicious_data_indices = np.random.randint(0, high = 16000, size = num_malicious)\n",
    "\n",
    "        benign_idx = 0\n",
    "        malicious_idx = 0\n",
    "\n",
    "        trace_cutoff = 4\n",
    "        features = 3\n",
    "\n",
    "        data = np.zeros((batch_size, trace_cutoff, features))\n",
    "        idx = 0\n",
    "        for label in labels:\n",
    "            if label ==0:\n",
    "                data[idx] = transform_trace(benign_event_traces[benign_data_indices[benign_idx]],cutoff=trace_cutoff)\n",
    "                benign_idx += 1\n",
    "                idx+=1\n",
    "            elif label == 1:\n",
    "                data[idx] = transform_trace(malicious_event_traces[malicious_data_indices[malicious_idx]],cutoff=trace_cutoff)\n",
    "                malicious_idx += 1\n",
    "                idx +=1 \n",
    "        \n",
    "        yield data, labels"
   ]
  },
  {
   "cell_type": "code",
   "execution_count": 41,
   "id": "5c277314",
   "metadata": {},
   "outputs": [],
   "source": [
    "from tensorflow.keras import Model\n",
    "from tensorflow.keras import layers\n",
    "from tensorflow.keras import Input"
   ]
  },
  {
   "cell_type": "code",
   "execution_count": 75,
   "id": "64880d20",
   "metadata": {},
   "outputs": [
    {
     "name": "stdout",
     "output_type": "stream",
     "text": [
      "Model: \"model_3\"\n",
      "_________________________________________________________________\n",
      "Layer (type)                 Output Shape              Param #   \n",
      "=================================================================\n",
      "input_4 (InputLayer)         [(None, 32, 3)]           0         \n",
      "_________________________________________________________________\n",
      "lstm_6 (LSTM)                (None, 32, 64)            17408     \n",
      "_________________________________________________________________\n",
      "lstm_7 (LSTM)                (None, 32, 64)            33024     \n",
      "_________________________________________________________________\n",
      "flatten_3 (Flatten)          (None, 2048)              0         \n",
      "_________________________________________________________________\n",
      "dense_12 (Dense)             (None, 512)               1049088   \n",
      "_________________________________________________________________\n",
      "dropout_6 (Dropout)          (None, 512)               0         \n",
      "_________________________________________________________________\n",
      "dense_13 (Dense)             (None, 128)               65664     \n",
      "_________________________________________________________________\n",
      "dropout_7 (Dropout)          (None, 128)               0         \n",
      "_________________________________________________________________\n",
      "dense_14 (Dense)             (None, 32)                4128      \n",
      "_________________________________________________________________\n",
      "dense_15 (Dense)             (None, 1)                 33        \n",
      "=================================================================\n",
      "Total params: 1,169,345\n",
      "Trainable params: 1,169,345\n",
      "Non-trainable params: 0\n",
      "_________________________________________________________________\n"
     ]
    }
   ],
   "source": [
    "input_layer = Input(shape=(32,3))\n",
    "x = layers.LSTM(64, return_sequences=True)(input_layer)\n",
    "x = layers.LSTM(64, return_sequences=True)(x)\n",
    "x = layers.Flatten()(x)\n",
    "x = layers.Dense(512,activation='relu')(x)\n",
    "x = layers.Dropout(0.5)(x)\n",
    "x = layers.Dense(128,activation='relu')(x)\n",
    "x = layers.Dropout(0.25)(x)\n",
    "x = layers.Dense(32,activation='relu')(x)\n",
    "output_layer = layers.Dense(1, activation='sigmoid')(x)\n",
    "\n",
    "model = Model(input_layer, output_layer)\n",
    "model.summary()"
   ]
  },
  {
   "cell_type": "code",
   "execution_count": 101,
   "id": "6f7687f6",
   "metadata": {},
   "outputs": [
    {
     "name": "stdout",
     "output_type": "stream",
     "text": [
      "Model: \"model_6\"\n",
      "_________________________________________________________________\n",
      "Layer (type)                 Output Shape              Param #   \n",
      "=================================================================\n",
      "input_7 (InputLayer)         [(None, 4, 3)]            0         \n",
      "_________________________________________________________________\n",
      "flatten_6 (Flatten)          (None, 12)                0         \n",
      "_________________________________________________________________\n",
      "dense_24 (Dense)             (None, 128)               1664      \n",
      "_________________________________________________________________\n",
      "dropout_12 (Dropout)         (None, 128)               0         \n",
      "_________________________________________________________________\n",
      "dense_25 (Dense)             (None, 64)                8256      \n",
      "_________________________________________________________________\n",
      "dropout_13 (Dropout)         (None, 64)                0         \n",
      "_________________________________________________________________\n",
      "dense_26 (Dense)             (None, 32)                2080      \n",
      "_________________________________________________________________\n",
      "dense_27 (Dense)             (None, 1)                 33        \n",
      "=================================================================\n",
      "Total params: 12,033\n",
      "Trainable params: 12,033\n",
      "Non-trainable params: 0\n",
      "_________________________________________________________________\n"
     ]
    }
   ],
   "source": [
    "input_fcnn = Input(shape=(4,3))\n",
    "y = layers.Flatten()(input_fcnn)\n",
    "y = layers.Dense(128,activation='relu')(y)\n",
    "y = layers.Dropout(0.5)(y)\n",
    "y = layers.Dense(64,activation='relu')(y)\n",
    "y = layers.Dropout(0.25)(y)\n",
    "y = layers.Dense(32,activation='relu')(y)\n",
    "output_fcnn = layers.Dense(1, activation='sigmoid')(y)\n",
    "\n",
    "fcnn_model = Model(input_fcnn, output_fcnn)\n",
    "fcnn_model.summary()"
   ]
  },
  {
   "cell_type": "code",
   "execution_count": 76,
   "id": "ef27f73b",
   "metadata": {},
   "outputs": [],
   "source": [
    "opt = tf.keras.optimizers.Adam(learning_rate=0.001)\n",
    "model.compile(optimizer=opt, loss = 'binary_crossentropy', metrics=['acc'])"
   ]
  },
  {
   "cell_type": "code",
   "execution_count": 102,
   "id": "6da020b8",
   "metadata": {},
   "outputs": [],
   "source": [
    "fcnn_model.compile(optimizer=opt, loss = 'binary_crossentropy', metrics=['acc'])"
   ]
  },
  {
   "cell_type": "code",
   "execution_count": 103,
   "id": "351dc732",
   "metadata": {},
   "outputs": [],
   "source": [
    "train_gen = train_generator(batch_size=128)"
   ]
  },
  {
   "cell_type": "code",
   "execution_count": 78,
   "id": "16101f8b",
   "metadata": {},
   "outputs": [
    {
     "name": "stderr",
     "output_type": "stream",
     "text": [
      "/home/monowar/anaconda3/envs/envphase2/lib/python3.9/site-packages/tensorflow/python/keras/engine/training.py:1844: UserWarning: `Model.fit_generator` is deprecated and will be removed in a future version. Please use `Model.fit`, which supports generators.\n",
      "  warnings.warn('`Model.fit_generator` is deprecated and '\n"
     ]
    },
    {
     "name": "stdout",
     "output_type": "stream",
     "text": [
      "Epoch 1/30\n",
      "200/200 [==============================] - 5s 11ms/step - loss: 0.3273 - acc: 0.8530\n",
      "Epoch 2/30\n",
      "200/200 [==============================] - 2s 11ms/step - loss: 0.0514 - acc: 0.9783\n",
      "Epoch 3/30\n",
      "200/200 [==============================] - 2s 12ms/step - loss: 0.0213 - acc: 0.9955\n",
      "Epoch 4/30\n",
      "200/200 [==============================] - 2s 12ms/step - loss: 0.0175 - acc: 0.9960\n",
      "Epoch 5/30\n",
      "200/200 [==============================] - 2s 12ms/step - loss: 0.0156 - acc: 0.9961\n",
      "Epoch 6/30\n",
      "200/200 [==============================] - 2s 12ms/step - loss: 0.0097 - acc: 0.9985\n",
      "Epoch 7/30\n",
      "200/200 [==============================] - 2s 12ms/step - loss: 0.0134 - acc: 0.9977\n",
      "Epoch 8/30\n",
      "200/200 [==============================] - 2s 12ms/step - loss: 0.0142 - acc: 0.9969\n",
      "Epoch 9/30\n",
      "200/200 [==============================] - 2s 12ms/step - loss: 0.0099 - acc: 0.9982\n",
      "Epoch 10/30\n",
      "200/200 [==============================] - 2s 12ms/step - loss: 0.0122 - acc: 0.9971\n",
      "Epoch 11/30\n",
      "200/200 [==============================] - 2s 12ms/step - loss: 0.0066 - acc: 0.9986\n",
      "Epoch 12/30\n",
      "200/200 [==============================] - 2s 12ms/step - loss: 0.0098 - acc: 0.9980\n",
      "Epoch 13/30\n",
      "200/200 [==============================] - 2s 12ms/step - loss: 0.0120 - acc: 0.9979\n",
      "Epoch 14/30\n",
      "200/200 [==============================] - 2s 12ms/step - loss: 0.0086 - acc: 0.9985\n",
      "Epoch 15/30\n",
      "200/200 [==============================] - 2s 12ms/step - loss: 0.0103 - acc: 0.9977\n",
      "Epoch 16/30\n",
      "200/200 [==============================] - 2s 12ms/step - loss: 0.0131 - acc: 0.9975\n",
      "Epoch 17/30\n",
      "200/200 [==============================] - 2s 12ms/step - loss: 0.0076 - acc: 0.9986\n",
      "Epoch 18/30\n",
      "200/200 [==============================] - 2s 12ms/step - loss: 0.0112 - acc: 0.9978\n",
      "Epoch 19/30\n",
      "200/200 [==============================] - 2s 12ms/step - loss: 0.0101 - acc: 0.9983\n",
      "Epoch 20/30\n",
      "200/200 [==============================] - 2s 11ms/step - loss: 0.0107 - acc: 0.9980\n",
      "Epoch 21/30\n",
      "200/200 [==============================] - 2s 12ms/step - loss: 0.0072 - acc: 0.9985\n",
      "Epoch 22/30\n",
      "200/200 [==============================] - 2s 12ms/step - loss: 0.0135 - acc: 0.9970\n",
      "Epoch 23/30\n",
      "200/200 [==============================] - 2s 12ms/step - loss: 0.0097 - acc: 0.9982\n",
      "Epoch 24/30\n",
      "200/200 [==============================] - 2s 12ms/step - loss: 0.0094 - acc: 0.9980\n",
      "Epoch 25/30\n",
      "200/200 [==============================] - 2s 12ms/step - loss: 0.0070 - acc: 0.9987\n",
      "Epoch 26/30\n",
      "200/200 [==============================] - 2s 12ms/step - loss: 0.0094 - acc: 0.9981\n",
      "Epoch 27/30\n",
      "200/200 [==============================] - 2s 12ms/step - loss: 0.0056 - acc: 0.9986\n",
      "Epoch 28/30\n",
      "200/200 [==============================] - 2s 12ms/step - loss: 0.0083 - acc: 0.9981\n",
      "Epoch 29/30\n",
      "200/200 [==============================] - 2s 12ms/step - loss: 0.0059 - acc: 0.9984\n",
      "Epoch 30/30\n",
      "200/200 [==============================] - 2s 12ms/step - loss: 0.0066 - acc: 0.9984\n"
     ]
    }
   ],
   "source": [
    "history = model.fit_generator(train_gen, steps_per_epoch=200, epochs=30)"
   ]
  },
  {
   "cell_type": "code",
   "execution_count": 104,
   "id": "c8360e6e",
   "metadata": {},
   "outputs": [
    {
     "name": "stdout",
     "output_type": "stream",
     "text": [
      "Epoch 1/15\n",
      "200/200 [==============================] - 2s 6ms/step - loss: 0.2884 - acc: 0.8687\n",
      "Epoch 2/15\n",
      "200/200 [==============================] - 1s 6ms/step - loss: 0.0664 - acc: 0.9762\n",
      "Epoch 3/15\n",
      "200/200 [==============================] - 1s 6ms/step - loss: 0.0469 - acc: 0.9837\n",
      "Epoch 4/15\n",
      "200/200 [==============================] - 1s 6ms/step - loss: 0.0403 - acc: 0.9834\n",
      "Epoch 5/15\n",
      "200/200 [==============================] - 1s 6ms/step - loss: 0.0375 - acc: 0.9854\n",
      "Epoch 6/15\n",
      "200/200 [==============================] - 1s 6ms/step - loss: 0.0378 - acc: 0.9839\n",
      "Epoch 7/15\n",
      "200/200 [==============================] - 1s 6ms/step - loss: 0.0330 - acc: 0.9877\n",
      "Epoch 8/15\n",
      "200/200 [==============================] - 1s 6ms/step - loss: 0.0340 - acc: 0.9860\n",
      "Epoch 9/15\n",
      "200/200 [==============================] - 1s 6ms/step - loss: 0.0321 - acc: 0.9882\n",
      "Epoch 10/15\n",
      "200/200 [==============================] - 1s 6ms/step - loss: 0.0287 - acc: 0.9880\n",
      "Epoch 11/15\n",
      "200/200 [==============================] - 1s 6ms/step - loss: 0.0275 - acc: 0.9880\n",
      "Epoch 12/15\n",
      "200/200 [==============================] - 1s 6ms/step - loss: 0.0297 - acc: 0.9879\n",
      "Epoch 13/15\n",
      "200/200 [==============================] - 1s 6ms/step - loss: 0.0302 - acc: 0.9871\n",
      "Epoch 14/15\n",
      "200/200 [==============================] - 1s 6ms/step - loss: 0.0292 - acc: 0.9878\n",
      "Epoch 15/15\n",
      "200/200 [==============================] - 1s 6ms/step - loss: 0.0270 - acc: 0.9868\n"
     ]
    }
   ],
   "source": [
    "history = fcnn_model.fit_generator(train_gen, steps_per_epoch=200, epochs=15)"
   ]
  },
  {
   "cell_type": "code",
   "execution_count": 79,
   "id": "2296a970",
   "metadata": {},
   "outputs": [],
   "source": [
    "train_accuracy = history.history['acc']\n",
    "train_loss = history.history['loss']"
   ]
  },
  {
   "cell_type": "code",
   "execution_count": 80,
   "id": "5fe9b383",
   "metadata": {},
   "outputs": [
    {
     "data": {
      "image/png": "[encoded data removed]",
      "text/plain": [
       "<Figure size 432x288 with 1 Axes>"
      ]
     },
     "metadata": {
      "needs_background": "light"
     },
     "output_type": "display_data"
    }
   ],
   "source": [
    "epochs = range(1, len(train_loss)+1)\n",
    "plt.figure()\n",
    "plt.plot(epochs[1:],np.exp(train_loss[1:]),'ro',label='Training loss')\n",
    "plt.show()"
   ]
  },
  {
   "cell_type": "code",
   "execution_count": 81,
   "id": "b676f5ff",
   "metadata": {},
   "outputs": [
    {
     "data": {
      "image/png": "[encoded data removed]",
      "text/plain": [
       "<Figure size 432x288 with 1 Axes>"
      ]
     },
     "metadata": {
      "needs_background": "light"
     },
     "output_type": "display_data"
    }
   ],
   "source": [
    "plt.figure()\n",
    "plt.plot(epochs[1:],train_accuracy[1:],'bo',label='Training accuracy')\n",
    "plt.show()"
   ]
  },
  {
   "cell_type": "markdown",
   "id": "e998c309",
   "metadata": {},
   "source": [
    "### Testing the model performance\n",
    "1. Test function\n",
    "2. Classification report analysis"
   ]
  },
  {
   "cell_type": "code",
   "execution_count": 105,
   "id": "7f2570e0",
   "metadata": {},
   "outputs": [],
   "source": [
    "cutoff = 4\n",
    "def get_test_data():\n",
    "    total_count = (malicious_event_count_in_graph-16000)+ 100000\n",
    "    data = np.zeros((total_count, cutoff, 3))\n",
    "    labels = np.hstack(( np.ones((malicious_event_count_in_graph-16000)), np.zeros(100000) ))\n",
    "    \n",
    "    idx = 0\n",
    "    \n",
    "    for i in range(16000, malicious_event_count_in_graph, 1):\n",
    "        data[idx] = transform_trace(malicious_event_traces[i],cutoff=4)\n",
    "        idx+=1\n",
    "    \n",
    "    for i in range(400000,500000,1):\n",
    "        data[idx] = transform_trace(benign_event_traces[i],cutoff=4)\n",
    "        idx+=1\n",
    "\n",
    "    return data,labels\n",
    "\n"
   ]
  },
  {
   "cell_type": "code",
   "execution_count": 106,
   "id": "9d035ca2",
   "metadata": {},
   "outputs": [],
   "source": [
    "x_test, y_test = get_test_data()"
   ]
  },
  {
   "cell_type": "code",
   "execution_count": 84,
   "id": "be63134c",
   "metadata": {},
   "outputs": [],
   "source": [
    "from sklearn.metrics import classification_report"
   ]
  },
  {
   "cell_type": "code",
   "execution_count": 107,
   "id": "11ee4938",
   "metadata": {},
   "outputs": [],
   "source": [
    "y_pred = fcnn_model.predict(x_test)"
   ]
  },
  {
   "cell_type": "code",
   "execution_count": 108,
   "id": "9ac3fdc2",
   "metadata": {},
   "outputs": [],
   "source": [
    "y_pred_bool = y_pred.round()"
   ]
  },
  {
   "cell_type": "code",
   "execution_count": 109,
   "id": "dcc8ff28",
   "metadata": {},
   "outputs": [
    {
     "name": "stdout",
     "output_type": "stream",
     "text": [
      "              precision    recall  f1-score   support\n",
      "\n",
      "         0.0       1.00      1.00      1.00    100000\n",
      "         1.0       0.97      1.00      0.98      6919\n",
      "\n",
      "    accuracy                           1.00    106919\n",
      "   macro avg       0.98      1.00      0.99    106919\n",
      "weighted avg       1.00      1.00      1.00    106919\n",
      "\n"
     ]
    }
   ],
   "source": [
    "print(classification_report(y_test, y_pred_bool))"
   ]
  },
  {
   "cell_type": "code",
   "execution_count": 133,
   "id": "633924fb",
   "metadata": {},
   "outputs": [],
   "source": [
    "tf.keras.backend.clear_session()"
   ]
  },
  {
   "cell_type": "code",
   "execution_count": 134,
   "id": "b9e47621",
   "metadata": {},
   "outputs": [],
   "source": [
    "from numba import cuda\n",
    "cuda.select_device(0)\n",
    "cuda.close()"
   ]
  },
  {
   "cell_type": "code",
   "execution_count": null,
   "id": "b082876f",
   "metadata": {},
   "outputs": [],
   "source": []
  }
 ],
 "metadata": {
  "interpreter": {
   "hash": "665a62c52c30a950e7fccaf3521b9106f970c2783e502ad90065569173ef9bee"
  },
  "kernelspec": {
   "display_name": "Python 3",
   "language": "python",
   "name": "python3"
  },
  "language_info": {
   "codemirror_mode": {
    "name": "ipython",
    "version": 3
   },
   "file_extension": ".py",
   "mimetype": "text/x-python",
   "name": "python",
   "nbconvert_exporter": "python",
   "pygments_lexer": "ipython3",
   "version": "3.8.10"
  }
 },
 "nbformat": 4,
 "nbformat_minor": 5
}
